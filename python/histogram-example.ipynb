{
 "cells": [
  {
   "cell_type": "code",
   "execution_count": 1,
   "metadata": {},
   "outputs": [
    {
     "name": "stdout",
     "output_type": "stream",
     "text": [
      "['/usr/lib/python35.zip',\n",
      " '/usr/lib/python3.5',\n",
      " '/usr/lib/python3.5/plat-x86_64-linux-gnu',\n",
      " '/usr/lib/python3.5/lib-dynload',\n",
      " '',\n",
      " '/home/homaar/.local/lib/python3.5/site-packages',\n",
      " '/usr/local/lib/python3.5/dist-packages',\n",
      " '/usr/lib/python3/dist-packages',\n",
      " '/usr/local/lib/python3.5/dist-packages/IPython/extensions',\n",
      " '/home/homaar/.ipython']\n"
     ]
    }
   ],
   "source": [
    "import sys, pprint\n",
    "pprint.pprint(sys.path)"
   ]
  },
  {
   "cell_type": "code",
   "execution_count": 2,
   "metadata": {},
   "outputs": [
    {
     "name": "stdout",
     "output_type": "stream",
     "text": [
      "$PATH:\r\n",
      "\t/usr/local/bin\r\n",
      "\t/usr/local/texlive/2017/bin/x86_64-linux\r\n",
      "\t/usr/local/sbin\r\n",
      "\t/usr/local/bin\r\n",
      "\t/usr/sbin\r\n",
      "\t/usr/bin\r\n",
      "\t/sbin\r\n",
      "\t/bin\r\n",
      "\t/usr/games\r\n",
      "\t/usr/local/games\r\n",
      "\r\n",
      "sys.path:\r\n",
      "\t/usr/local/bin\r\n",
      "\t/usr/lib/python35.zip\r\n",
      "\t/usr/lib/python3.5\r\n",
      "\t/usr/lib/python3.5/plat-x86_64-linux-gnu\r\n",
      "\t/usr/lib/python3.5/lib-dynload\r\n",
      "\t/home/homaar/.local/lib/python3.5/site-packages\r\n",
      "\t/usr/local/lib/python3.5/dist-packages\r\n",
      "\t/usr/lib/python3/dist-packages\r\n",
      "\r\n",
      "sys.executable:\r\n",
      "\t/usr/bin/python3\r\n",
      "\r\n",
      "sys.version:\r\n",
      "\t3.5.2 (default, Nov 12 2018, 13:43:14) \r\n",
      "\t[GCC 5.4.0 20160609]\r\n",
      "\r\n",
      "platform.platform():\r\n",
      "\tLinux-4.10.0-38-generic-x86_64-with-LinuxMint-18.3-sylvia\r\n",
      "\r\n",
      "which -a jupyter:\r\n",
      "\t/usr/local/bin/jupyter\r\n",
      "\t/usr/local/bin/jupyter\r\n",
      "\r\n",
      "pip list:\r\n",
      "\tPackage                  Version               \r\n",
      "\t------------------------ ----------------------\r\n",
      "\tapt-clone                0.2.1                 \r\n",
      "\tapt-xapian-index         0.47                  \r\n",
      "\tapturl                   0.5.2                 \r\n",
      "\tastroid                  1.4.4                 \r\n",
      "\tbackcall                 0.1.0                 \r\n",
      "\tblinker                  1.3                   \r\n",
      "\tBrlapi                   0.6.4                 \r\n",
      "\tchardet                  2.3.0                 \r\n",
      "\tcommand-not-found        0.3                   \r\n",
      "\tcryptography             1.2.3                 \r\n",
      "\tcycler                   0.10.0                \r\n",
      "\tdecorator                4.3.0                 \r\n",
      "\tdefer                    1.0.6                 \r\n",
      "\tdirspec                  13.10                 \r\n",
      "\thtml5lib                 0.999                 \r\n",
      "\thttplib2                 0.9.1                 \r\n",
      "\tidna                     2.0                   \r\n",
      "\tindicator-cpufreq        0.2.2                 \r\n",
      "\tipykernel                5.1.0                 \r\n",
      "\tipython                  7.2.0                 \r\n",
      "\tipython-genutils         0.2.0                 \r\n",
      "\tjedi                     0.13.2                \r\n",
      "\tjupyter-client           5.2.4                 \r\n",
      "\tjupyter-core             4.4.0                 \r\n",
      "\tkiwisolver               1.0.1                 \r\n",
      "\tlazy-object-proxy        1.2.1                 \r\n",
      "\tlogilab-common           1.1.0                 \r\n",
      "\tlouis                    2.6.4                 \r\n",
      "\tlxml                     3.5.0                 \r\n",
      "\tmatplotlib               3.0.2                 \r\n",
      "\tnumpy                    1.13.3                \r\n",
      "\toauthlib                 1.0.3                 \r\n",
      "\toneconf                  0.3.9                 \r\n",
      "\tparso                    0.3.1                 \r\n",
      "\tpexpect                  4.0.1                 \r\n",
      "\tpickleshare              0.7.5                 \r\n",
      "\tPillow                   3.1.2                 \r\n",
      "\tpip                      18.1                  \r\n",
      "\tpiston-mini-client       0.7.5                 \r\n",
      "\tprompt-toolkit           2.0.7                 \r\n",
      "\tpsutil                   3.4.2                 \r\n",
      "\tptyprocess               0.5                   \r\n",
      "\tpyasn1                   0.1.9                 \r\n",
      "\tpycrypto                 2.6.1                 \r\n",
      "\tpycups                   1.9.73                \r\n",
      "\tpycurl                   7.43.0                \r\n",
      "\tpygeoip                  0.3.2                 \r\n",
      "\tPygments                 2.3.1                 \r\n",
      "\tpygobject                3.20.0                \r\n",
      "\tPyICU                    1.9.2                 \r\n",
      "\tPyJWT                    1.3.0                 \r\n",
      "\tpylint                   1.5.2                 \r\n",
      "\tpyparsing                2.2.0                 \r\n",
      "\tpython-apt               1.1.0b1+ubuntu0.16.4.2\r\n",
      "\tpython-dateutil          2.6.1                 \r\n",
      "\tpython-debian            0.1.27                \r\n",
      "\tpython-xapp              1.0.0                 \r\n",
      "\tpytz                     2017.2                \r\n",
      "\tpyxdg                    0.25                  \r\n",
      "\tpyzmq                    17.1.2                \r\n",
      "\treportlab                3.3.0                 \r\n",
      "\trequests                 2.9.1                 \r\n",
      "\tsessioninstaller         0.0.0                 \r\n",
      "\tsetproctitle             1.1.8                 \r\n",
      "\tsetuptools               20.7.0                \r\n",
      "\tsix                      1.10.0                \r\n",
      "\tsystem-service           0.3                   \r\n",
      "\tthin-client-config-agent 0.8                   \r\n",
      "\ttornado                  5.1.1                 \r\n",
      "\ttraitlets                4.3.2                 \r\n",
      "\tubuntu-drivers-common    0.0.0                 \r\n",
      "\tufw                      0.35                  \r\n",
      "\tunattended-upgrades      0.1                   \r\n",
      "\turllib3                  1.13.1                \r\n",
      "\tvirtkey                  0.63.0                \r\n",
      "\tvirtualenv               15.0.1                \r\n",
      "\twcwidth                  0.1.7                 \r\n",
      "\twrapt                    1.8.0                 \r\n",
      "\txkit                     0.0.0\r\n"
     ]
    }
   ],
   "source": [
    "!jupyter-troubleshoot"
   ]
  },
  {
   "cell_type": "code",
   "execution_count": 7,
   "metadata": {
    "scrolled": true
   },
   "outputs": [
    {
     "data": {
      "image/png": "[encoded data removed]",
      "text/plain": [
       "<Figure size 432x288 with 1 Axes>"
      ]
     },
     "metadata": {
      "needs_background": "light"
     },
     "output_type": "display_data"
    }
   ],
   "source": [
    "%matplotlib inline\n",
    "import matplotlib\n",
    "import numpy as np\n",
    "import matplotlib.pyplot as plt\n",
    "\n",
    "np.random.seed(19680801)\n",
    "\n",
    "# example data\n",
    "mu = 100  # mean of distribution\n",
    "sigma = 15  # standard deviation of distribution\n",
    "x = mu + sigma * np.random.randn(437)\n",
    "\n",
    "num_bins = 50\n",
    "\n",
    "fig, ax = plt.subplots()\n",
    "\n",
    "# the histogram of the data\n",
    "n, bins, patches = ax.hist(x, num_bins, density=1)\n",
    "\n",
    "# add a 'best fit' line\n",
    "y = ((1 / (np.sqrt(2 * np.pi) * sigma)) *\n",
    "     np.exp(-0.5 * (1 / sigma * (bins - mu))**2))\n",
    "ax.plot(bins, y, '--')\n",
    "ax.set_xlabel('Smarts')\n",
    "ax.set_ylabel('Probability density')\n",
    "ax.set_title(r'Histogram of IQ: $\\mu=100$, $\\sigma=15$')\n",
    "\n",
    "# Tweak spacing to prevent clipping of ylabel\n",
    "fig.tight_layout()\n",
    "plt.show()"
   ]
  },
  {
   "cell_type": "code",
   "execution_count": null,
   "metadata": {},
   "outputs": [],
   "source": []
  }
 ],
 "metadata": {
  "kernelspec": {
   "display_name": "Python 3",
   "language": "python",
   "name": "python3"
  },
  "language_info": {
   "codemirror_mode": {
    "name": "ipython",
    "version": 3
   },
   "file_extension": ".py",
   "mimetype": "text/x-python",
   "name": "python",
   "nbconvert_exporter": "python",
   "pygments_lexer": "ipython3",
   "version": "3.5.2"
  }
 },
 "nbformat": 4,
 "nbformat_minor": 2
}
