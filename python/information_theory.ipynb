{
 "cells": [
  {
   "cell_type": "code",
   "execution_count": 1,
   "metadata": {},
   "outputs": [],
   "source": [
    "# https://www.d2l.ai/chapter_appendix-mathematics-for-deep-learning/information-theory.html\n",
    "import torch\n",
    "from torch.nn import NLLLoss"
   ]
  },
  {
   "cell_type": "code",
   "execution_count": 4,
   "metadata": {},
   "outputs": [
    {
     "data": {
      "text/plain": [
       "6.0"
      ]
     },
     "execution_count": 4,
     "metadata": {},
     "output_type": "execute_result"
    }
   ],
   "source": [
    "def nansum(x):\n",
    "    return x[~torch.isnan(x)].sum()\n",
    "\n",
    "def self_information(p):\n",
    "    return -torch.log2(torch.tensor(p)).item()\n",
    "\n",
    "self_information(1/64)"
   ]
  },
  {
   "cell_type": "code",
   "execution_count": 5,
   "metadata": {},
   "outputs": [
    {
     "data": {
      "text/plain": [
       "tensor(1.6855)"
      ]
     },
     "execution_count": 5,
     "metadata": {},
     "output_type": "execute_result"
    }
   ],
   "source": [
    "def entropy(p):\n",
    "    entropy = - p * torch.log2(p)\n",
    "    return nansum(entropy)\n",
    "\n",
    "entropy(torch.Tensor([0.1, 0.5, 0.1, 0.3]))"
   ]
  },
  {
   "cell_type": "code",
   "execution_count": 7,
   "metadata": {},
   "outputs": [
    {
     "data": {
      "text/plain": [
       "tensor(1.6855)"
      ]
     },
     "execution_count": 7,
     "metadata": {},
     "output_type": "execute_result"
    }
   ],
   "source": [
    "def joint_entropy(p_xy):\n",
    "    joint_entropy = - p_xy * torch.log2(p_xy)\n",
    "    return nansum(joint_entropy)\n",
    "\n",
    "joint_entropy(torch.Tensor([[0.1, 0.5], [0.1, 0.3]]))"
   ]
  },
  {
   "cell_type": "code",
   "execution_count": 11,
   "metadata": {},
   "outputs": [
    {
     "data": {
      "text/plain": [
       "tensor(0.8635)"
      ]
     },
     "execution_count": 11,
     "metadata": {},
     "output_type": "execute_result"
    }
   ],
   "source": [
    "def conditional_entropy(p_xy, p_x):\n",
    "    p_y_given_x = p_xy / p_x\n",
    "    conditional_entropy = - p_xy * torch.log2(p_y_given_x)\n",
    "    return nansum(conditional_entropy)\n",
    "    \n",
    "\n",
    "    \n",
    "conditional_entropy(torch.Tensor([[0.1, 0.5], [0.2, 0.3]]), torch.Tensor([0.2, 0.8]))"
   ]
  },
  {
   "cell_type": "code",
   "execution_count": 15,
   "metadata": {},
   "outputs": [
    {
     "data": {
      "text/plain": [
       "tensor(0.7195)"
      ]
     },
     "execution_count": 15,
     "metadata": {},
     "output_type": "execute_result"
    }
   ],
   "source": [
    "def mutual_information(p_xy, p_x, p_y):\n",
    "    p = p_xy/(p_x * p_y)\n",
    "    mutual_information =  p_xy * torch.log2(p)\n",
    "    return nansum(mutual_information)\n",
    "\n",
    "mutual_information(torch.Tensor([[0.1, 0.5], [0.1, 0.3]]), torch.Tensor([0.2, 0.8]), torch.Tensor([[0.75, 0.25]]))"
   ]
  },
  {
   "cell_type": "code",
   "execution_count": 16,
   "metadata": {},
   "outputs": [],
   "source": [
    "def kl_divergence(p, q):\n",
    "    kl = p * torch.log2(p / q)\n",
    "    return nansum(kl).abs().item()"
   ]
  },
  {
   "cell_type": "code",
   "execution_count": 22,
   "metadata": {},
   "outputs": [
    {
     "data": {
      "text/plain": [
       "(8582.0341796875, 8828.3095703125, 2.8290698237936858)"
      ]
     },
     "execution_count": 22,
     "metadata": {},
     "output_type": "execute_result"
    }
   ],
   "source": [
    "torch.manual_seed(1)\n",
    "\n",
    "tensor_len = 10000\n",
    "p = torch.normal(0, 1, (tensor_len, ))\n",
    "q1 = torch.normal(-1, 1, (tensor_len, ))\n",
    "q2 = torch.normal(1, 1, (tensor_len, ))\n",
    "\n",
    "p = torch.sort(p)[0]\n",
    "q1 = torch.sort(q1)[0]\n",
    "q2 = torch.sort(q2)[0]\n",
    "\n",
    "kl_pq1 = kl_divergence(p, q1)\n",
    "kl_pq2 = kl_divergence(p, q2)\n",
    "similar_percentage = abs(kl_pq1 - kl_pq2) / ((kl_pq1 + kl_pq2) / 2) * 100\n",
    "\n",
    "kl_pq1, kl_pq2, similar_percentage"
   ]
  }
 ],
 "metadata": {
  "interpreter": {
   "hash": "e7370f93d1d0cde622a1f8e1c04877d8463912d04d973331ad4851f04de6915a"
  },
  "kernelspec": {
   "display_name": "Python 3.10.1 64-bit",
   "name": "python3"
  },
  "language_info": {
   "codemirror_mode": {
    "name": "ipython",
    "version": 3
   },
   "file_extension": ".py",
   "mimetype": "text/x-python",
   "name": "python",
   "nbconvert_exporter": "python",
   "pygments_lexer": "ipython3",
   "version": "3.10.1"
  },
  "orig_nbformat": 4
 },
 "nbformat": 4,
 "nbformat_minor": 2
}
