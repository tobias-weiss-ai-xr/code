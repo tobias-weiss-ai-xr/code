{
 "cells": [
  {
   "cell_type": "code",
   "execution_count": 1,
   "metadata": {},
   "outputs": [
    {
     "name": "stdout",
     "output_type": "stream",
     "text": [
      "    a  b\n",
      "0   4  2\n",
      "1   6  2\n",
      "2   6  3\n",
      "3   1  4\n",
      "4   2  7\n",
      "5   7  3\n",
      "6   3  7\n",
      "7   1  3\n",
      "8   1  1\n",
      "9   4  6\n",
      "10  3  5\n",
      "11  7  1\n",
      "12  2  6\n",
      "13  7  3\n",
      "14  1  3\n",
      "15  3  1\n",
      "16  3  7\n",
      "17  2  4\n",
      "18  5  6\n",
      "19  1  5\n",
      "20  5  6\n",
      "21  3  4\n",
      "22  5  7\n",
      "23  7  2\n",
      "24  2  2\n",
      "25  2  7\n",
      "26  4  5\n",
      "27  6  4\n",
      "28  5  1\n",
      "29  6  5\n",
      "30  5  1\n",
      "31  6  4\n",
      "32  7  2\n",
      "33  4  6\n",
      "34  4  5\n"
     ]
    }
   ],
   "source": [
    "import pandas as pd\n",
    "import numpy as np\n",
    "lots = pd.DataFrame({\n",
    "    \"a\": [x for x in range(1, 8)] * 5,\n",
    "    \"b\": [x for x in range(1, 8)] * 5,\n",
    "})\n",
    "\n",
    "lots[\"a\"] = np.random.permutation(lots[\"a\"].values)\n",
    "lots[\"b\"] = np.random.permutation(lots[\"b\"].values)\n",
    "print(lots)"
   ]
  },
  {
   "cell_type": "code",
   "execution_count": 9,
   "metadata": {},
   "outputs": [],
   "source": [
    "with open('random-groups.csv', 'w') as f:\n",
    "    for idx, row in lots.iterrows():\n",
    "        f.write(\"Board Games\\tTue 8 PM\\n\")\n",
    "        f.write(\"round 1\\tround 2\\n\")\n",
    "        f.write(f\"{row['a']}\\t{row['b']}\\n\\n\")"
   ]
  }
 ],
 "metadata": {
  "kernelspec": {
   "display_name": "Python 3",
   "language": "python",
   "name": "python3"
  },
  "language_info": {
   "codemirror_mode": {
    "name": "ipython",
    "version": 3
   },
   "file_extension": ".py",
   "mimetype": "text/x-python",
   "name": "python",
   "nbconvert_exporter": "python",
   "pygments_lexer": "ipython3",
   "version": "3.7.15"
  },
  "orig_nbformat": 4,
  "vscode": {
   "interpreter": {
    "hash": "f05bcb70754d7058edf531da8cf0de8b919955d9392509f15c2b53ebdc3a52a7"
   }
  }
 },
 "nbformat": 4,
 "nbformat_minor": 2
}
