{
 "cells": [
  {
   "cell_type": "code",
   "execution_count": 5,
   "metadata": {},
   "outputs": [
    {
     "name": "stdout",
     "output_type": "stream",
     "text": [
      "    a  b\n",
      "0   1  2\n",
      "1   3  7\n",
      "2   7  6\n",
      "3   7  6\n",
      "4   2  2\n",
      "5   6  2\n",
      "6   4  3\n",
      "7   7  1\n",
      "8   6  4\n",
      "9   5  5\n",
      "10  5  7\n",
      "11  7  5\n",
      "12  1  1\n",
      "13  7  3\n",
      "14  1  7\n",
      "15  2  2\n",
      "16  2  3\n",
      "17  1  3\n",
      "18  5  1\n",
      "19  3  4\n",
      "20  4  4\n",
      "21  6  5\n",
      "22  3  4\n",
      "23  2  3\n",
      "24  6  6\n",
      "25  2  2\n",
      "26  3  6\n",
      "27  3  6\n",
      "28  4  5\n",
      "29  4  1\n",
      "30  5  7\n",
      "31  1  1\n",
      "32  4  7\n",
      "33  6  5\n",
      "34  5  4\n"
     ]
    }
   ],
   "source": [
    "import pandas as pd\n",
    "import numpy as np\n",
    "lots = pd.DataFrame({\n",
    "    \"a\": [x for x in range(1, 8)] * 5,\n",
    "    \"b\": [x for x in range(1, 8)] * 5,\n",
    "})\n",
    "\n",
    "lots[\"a\"] = np.random.permutation(lots[\"a\"].values)\n",
    "lots[\"b\"] = np.random.permutation(lots[\"b\"].values)\n",
    "print(lots)"
   ]
  },
  {
   "cell_type": "code",
   "execution_count": 6,
   "metadata": {},
   "outputs": [],
   "source": [
    "with open('random-groups.csv', 'w') as f:\n",
    "    for idx, row in lots.iterrows():\n",
    "        f.write(\"Board Games\\tTue 8 PM\\n\")\n",
    "        f.write(\"round 1\\tround 2\\n\")\n",
    "        f.write(f\"{row['a']}\\t{row['b']}\\n\\n\")"
   ]
  }
 ],
 "metadata": {
  "kernelspec": {
   "display_name": "stocks",
   "language": "python",
   "name": "python3"
  },
  "language_info": {
   "codemirror_mode": {
    "name": "ipython",
    "version": 3
   },
   "file_extension": ".py",
   "mimetype": "text/x-python",
   "name": "python",
   "nbconvert_exporter": "python",
   "pygments_lexer": "ipython3",
   "version": "undefined.undefined.undefined"
  },
  "orig_nbformat": 4
 },
 "nbformat": 4,
 "nbformat_minor": 2
}
