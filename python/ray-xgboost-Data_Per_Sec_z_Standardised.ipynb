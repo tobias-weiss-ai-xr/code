{
 "cells": [
  {
   "cell_type": "code",
   "execution_count": 1,
   "id": "80ee1375",
   "metadata": {
    "scrolled": true
   },
   "outputs": [],
   "source": [
    "import numpy as np\n",
    "import pandas as pd\n",
    "import matplotlib.pyplot as plt\n",
    "\n",
    "from sklearn.model_selection import train_test_split\n",
    "from sklearn.metrics import accuracy_score\n",
    "import xgboost as xgb\n",
    "import shap\n",
    "\n",
    "np.random.seed(12345)\n",
    "\n",
    "%matplotlib inline"
   ]
  },
  {
   "cell_type": "code",
   "execution_count": 2,
   "id": "a9309383",
   "metadata": {},
   "outputs": [],
   "source": [
    "FILE = '/home/weiss/git/isr-data-kd2school/Data_Per_Sec_z_Standardised.csv'\n",
    "\n",
    "df = pd.read_csv(FILE,\n",
    "                 sep=';',\n",
    "                 header=0,\n",
    "                 # usecols=relevant_columns  # needs to be preproccessed first   \n",
    "                 )\n",
    "\n",
    "# df.head(n=30)\n",
    "# df = df[df['LENGTH'] == 25]  # Sekunde 25\n",
    "# df[df['VP'] == 1]  # participant number, probably 'VersuchsPerson'\n",
    "\n",
    "# missing values\n",
    "# print('NULL values:\\n\\n',df.isnull().sum())\n",
    "# df = df.dropna()\n",
    "# print(df.shape[0])\n",
    "# print('NULL values:\\n\\n',df.isnull().sum())\n",
    "# print(df.shape[0])"
   ]
  },
  {
   "cell_type": "code",
   "execution_count": 3,
   "id": "a681d8af",
   "metadata": {},
   "outputs": [
    {
     "name": "stdout",
     "output_type": "stream",
     "text": [
      "missing val: 0\n",
      "0    5400\n",
      "1    4600\n",
      "Name: GOALVSEXP, dtype: int64\n"
     ]
    },
    {
     "data": {
      "text/plain": [
       "0    0\n",
       "1    0\n",
       "2    0\n",
       "3    0\n",
       "4    0\n",
       "Name: GOALVSEXP, dtype: int64"
      ]
     },
     "execution_count": 3,
     "metadata": {},
     "output_type": "execute_result"
    }
   ],
   "source": [
    "labels = df['GOALVSEXP'].unique()\n",
    "i=0\n",
    "idx2class = {}\n",
    "class2idx = {}\n",
    "for c in labels:\n",
    "    idx2class[i] = c\n",
    "    class2idx[c] = i\n",
    "    i+=1\n",
    "    \n",
    "y = df['GOALVSEXP'].map(class2idx)\n",
    "print('missing val:', y.isna().sum())\n",
    "print(y.value_counts())\n",
    "y.head()"
   ]
  },
  {
   "cell_type": "code",
   "execution_count": 4,
   "id": "b1ecf2c0",
   "metadata": {
    "scrolled": false
   },
   "outputs": [],
   "source": [
    "X = df.drop(['StudyState', 'VP', 'EXPGR', 'GOALVSEXP', 'LENGTH'], axis=1)\n",
    "#X.head()"
   ]
  },
  {
   "cell_type": "code",
   "execution_count": 5,
   "id": "c6f75664",
   "metadata": {},
   "outputs": [
    {
     "data": {
      "text/plain": [
       "array([1, 0, 0, ..., 1, 0, 0])"
      ]
     },
     "execution_count": 5,
     "metadata": {},
     "output_type": "execute_result"
    }
   ],
   "source": [
    "X_train, X_test, y_train, y_test = train_test_split(X, y, test_size=0.2, random_state=42)\n",
    "model = xgb.XGBClassifier(max_depth=3, n_estimators=2, learning_rate=0.05, use_label_encoder=False, eval_metric='logloss').fit(X_train, y_train)\n",
    "predictions = model.predict(X_test)\n",
    "predictions"
   ]
  },
  {
   "cell_type": "code",
   "execution_count": 6,
   "id": "2b55cd9b",
   "metadata": {},
   "outputs": [
    {
     "data": {
      "text/plain": [
       "0.802"
      ]
     },
     "execution_count": 6,
     "metadata": {},
     "output_type": "execute_result"
    }
   ],
   "source": [
    "# Eval \n",
    "accuracy_score(predictions, y_test)"
   ]
  },
  {
   "cell_type": "code",
   "execution_count": 7,
   "id": "ff678563",
   "metadata": {
    "scrolled": true
   },
   "outputs": [
    {
     "data": {
      "image/png": "[encoded data removed]",
      "text/plain": [
       "<Figure size 432x288 with 1 Axes>"
      ]
     },
     "metadata": {
      "needs_background": "light"
     },
     "output_type": "display_data"
    }
   ],
   "source": [
    "xgb.plot_importance(model)\n",
    "plt.title(\"xgboost.plot_importance(model)\")\n",
    "plt.show()"
   ]
  },
  {
   "cell_type": "code",
   "execution_count": 8,
   "id": "0f273990",
   "metadata": {},
   "outputs": [
    {
     "name": "stderr",
     "output_type": "stream",
     "text": [
      "early_stopping is enabled but max_iters = 1. To enable partial training, set max_iters > 1.\n",
      "tune-sklearn implements incremental learning for xgboost models following this: https://github.com/dmlc/xgboost/issues/1686. This may negatively impact performance. To disable, set `early_stopping=False`.\n"
     ]
    },
    {
     "name": "stdout",
     "output_type": "stream",
     "text": [
      "{'min_child_weight': 10, 'gamma': 1.0, 'subsample': 1.0, 'colsample_bytree': 0.8, 'max_depth': 5}\n",
      "{'params': [{'min_child_weight': 10, 'gamma': 1.0, 'subsample': 0.6, 'colsample_bytree': 0.8, 'max_depth': 5}, {'min_child_weight': 10, 'gamma': 1.0, 'subsample': 1.0, 'colsample_bytree': 0.8, 'max_depth': 5}, {'min_child_weight': 10, 'gamma': 0.5, 'subsample': 1.0, 'colsample_bytree': 0.8, 'max_depth': 4}], 'split0_test_score': array([0.869375, 0.921875, 0.860625]), 'split1_test_score': array([0.913125, 0.92875 , 0.8875  ]), 'split2_test_score': array([0.91875 , 0.936875, 0.888125]), 'split3_test_score': array([0.91    , 0.939375, 0.883125]), 'split4_test_score': array([0.888125, 0.9225  , 0.8825  ]), 'mean_test_score': array([0.899875, 0.929875, 0.880375]), 'std_test_score': array([0.01845349, 0.00719592, 0.01012886]), 'rank_test_score': array([2, 1, 3], dtype=int32), 'time_total_s': array([8.18471241, 8.36361337, 6.76673627]), 'training_iteration': array([1, 1, 1]), 'param_min_child_weight': masked_array(data=[10, 10, 10],\n",
      "             mask=[False, False, False],\n",
      "       fill_value='?',\n",
      "            dtype=object), 'param_gamma': masked_array(data=[1.0, 1.0, 0.5],\n",
      "             mask=[False, False, False],\n",
      "       fill_value='?',\n",
      "            dtype=object), 'param_subsample': masked_array(data=[0.6, 1.0, 1.0],\n",
      "             mask=[False, False, False],\n",
      "       fill_value='?',\n",
      "            dtype=object), 'param_colsample_bytree': masked_array(data=[0.8, 0.8, 0.8],\n",
      "             mask=[False, False, False],\n",
      "       fill_value='?',\n",
      "            dtype=object), 'param_max_depth': masked_array(data=[5, 5, 4],\n",
      "             mask=[False, False, False],\n",
      "       fill_value='?',\n",
      "            dtype=object)}\n"
     ]
    }
   ],
   "source": [
    "# https://github.com/ray-project/tune-sklearn/blob/master/examples/xgbclassifier.py\n",
    "\n",
    "from tune_sklearn import TuneSearchCV\n",
    "\n",
    "# A parameter grid for XGBoost\n",
    "params = {\n",
    "    \"min_child_weight\": [1, 5, 10],\n",
    "    \"gamma\": [0.5, 1, 1.5, 2, 5],\n",
    "    \"subsample\": [0.6, 0.8, 1.0],\n",
    "    \"colsample_bytree\": [0.6, 0.8, 1.0],\n",
    "    \"max_depth\": [3, 4, 5],\n",
    "}\n",
    "\n",
    "#xgb = XGBClassifier(\n",
    "#    learning_rate=0.02,\n",
    "#    n_estimators=50,\n",
    "#    objective=\"binary:logistic\",\n",
    "#    nthread=4,\n",
    "#    # tree_method=\"gpu_hist\"  # this enables GPU.\n",
    "#    # See https://github.com/dmlc/xgboost/issues/2819\n",
    "#)\n",
    "\n",
    "param_search = TuneSearchCV(\n",
    "    model,\n",
    "    param_distributions=params,\n",
    "    n_trials=3,\n",
    "    early_stopping=True,\n",
    "    # use_gpu=True # Commented out for testing on github actions,\n",
    "    # but this is how you would use gpu\n",
    ")\n",
    "\n",
    "param_search.fit(X_train, y_train)\n",
    "print(param_search.best_params_)\n",
    "print(param_search.cv_results_)"
   ]
  },
  {
   "cell_type": "code",
   "execution_count": 34,
   "id": "93c543d2",
   "metadata": {
    "scrolled": false
   },
   "outputs": [
    {
     "data": {
      "text/html": [
       "== Status ==<br>Memory usage on this node: 6.6/15.4 GiB<br>Using FIFO scheduling algorithm.<br>Resources requested: 0/8 CPUs, 0/0 GPUs, 0.0/7.4 GiB heap, 0.0/3.7 GiB objects<br>Current best trial: 3a737_00008 with mean_accuracy=0.9785 and parameters={'objective': 'binary:logistic', 'eval_metric': ['logloss', 'error'], 'max_depth': 8, 'min_child_weight': 3, 'subsample': 0.7141343612267175, 'eta': 0.0012012503979470456}<br>Result logdir: /home/weiss/ray_results/train_xgb_2021-10-31_21-53-33<br>Number of trials: 10/10 (10 TERMINATED)<br><table>\n",
       "<thead>\n",
       "<tr><th>Trial name           </th><th>status    </th><th>loc  </th><th style=\"text-align: right;\">        eta</th><th style=\"text-align: right;\">  max_depth</th><th style=\"text-align: right;\">  min_child_weight</th><th style=\"text-align: right;\">  subsample</th><th style=\"text-align: right;\">   acc</th><th style=\"text-align: right;\">  iter</th><th style=\"text-align: right;\">  total time (s)</th></tr>\n",
       "</thead>\n",
       "<tbody>\n",
       "<tr><td>train_xgb_3a737_00000</td><td>TERMINATED</td><td>     </td><td style=\"text-align: right;\">0.000733979</td><td style=\"text-align: right;\">          5</td><td style=\"text-align: right;\">                 1</td><td style=\"text-align: right;\">   0.701191</td><td style=\"text-align: right;\">0.946 </td><td style=\"text-align: right;\">     1</td><td style=\"text-align: right;\">        29.0152 </td></tr>\n",
       "<tr><td>train_xgb_3a737_00001</td><td>TERMINATED</td><td>     </td><td style=\"text-align: right;\">0.0924537  </td><td style=\"text-align: right;\">          5</td><td style=\"text-align: right;\">                 3</td><td style=\"text-align: right;\">   0.612857</td><td style=\"text-align: right;\">0.967 </td><td style=\"text-align: right;\">     1</td><td style=\"text-align: right;\">        29.1788 </td></tr>\n",
       "<tr><td>train_xgb_3a737_00002</td><td>TERMINATED</td><td>     </td><td style=\"text-align: right;\">0.00521841 </td><td style=\"text-align: right;\">          3</td><td style=\"text-align: right;\">                 3</td><td style=\"text-align: right;\">   0.914095</td><td style=\"text-align: right;\">0.7895</td><td style=\"text-align: right;\">     1</td><td style=\"text-align: right;\">        18.2144 </td></tr>\n",
       "<tr><td>train_xgb_3a737_00003</td><td>TERMINATED</td><td>     </td><td style=\"text-align: right;\">0.0093546  </td><td style=\"text-align: right;\">          6</td><td style=\"text-align: right;\">                 1</td><td style=\"text-align: right;\">   0.675116</td><td style=\"text-align: right;\">0.9645</td><td style=\"text-align: right;\">     1</td><td style=\"text-align: right;\">        32.4667 </td></tr>\n",
       "<tr><td>train_xgb_3a737_00004</td><td>TERMINATED</td><td>     </td><td style=\"text-align: right;\">0.0323319  </td><td style=\"text-align: right;\">          1</td><td style=\"text-align: right;\">                 1</td><td style=\"text-align: right;\">   0.90501 </td><td style=\"text-align: right;\">0.7135</td><td style=\"text-align: right;\">     1</td><td style=\"text-align: right;\">        10.0987 </td></tr>\n",
       "<tr><td>train_xgb_3a737_00005</td><td>TERMINATED</td><td>     </td><td style=\"text-align: right;\">0.00279223 </td><td style=\"text-align: right;\">          3</td><td style=\"text-align: right;\">                 2</td><td style=\"text-align: right;\">   0.679798</td><td style=\"text-align: right;\">0.795 </td><td style=\"text-align: right;\">     1</td><td style=\"text-align: right;\">        17.9518 </td></tr>\n",
       "<tr><td>train_xgb_3a737_00006</td><td>TERMINATED</td><td>     </td><td style=\"text-align: right;\">0.0303749  </td><td style=\"text-align: right;\">          1</td><td style=\"text-align: right;\">                 2</td><td style=\"text-align: right;\">   0.781657</td><td style=\"text-align: right;\">0.7135</td><td style=\"text-align: right;\">     1</td><td style=\"text-align: right;\">        10.9519 </td></tr>\n",
       "<tr><td>train_xgb_3a737_00007</td><td>TERMINATED</td><td>     </td><td style=\"text-align: right;\">0.00579783 </td><td style=\"text-align: right;\">          6</td><td style=\"text-align: right;\">                 3</td><td style=\"text-align: right;\">   0.594954</td><td style=\"text-align: right;\">0.968 </td><td style=\"text-align: right;\">     1</td><td style=\"text-align: right;\">        31.8133 </td></tr>\n",
       "<tr><td>train_xgb_3a737_00008</td><td>TERMINATED</td><td>     </td><td style=\"text-align: right;\">0.00120125 </td><td style=\"text-align: right;\">          8</td><td style=\"text-align: right;\">                 3</td><td style=\"text-align: right;\">   0.714134</td><td style=\"text-align: right;\">0.9785</td><td style=\"text-align: right;\">     1</td><td style=\"text-align: right;\">        17.221  </td></tr>\n",
       "<tr><td>train_xgb_3a737_00009</td><td>TERMINATED</td><td>     </td><td style=\"text-align: right;\">0.000818942</td><td style=\"text-align: right;\">          2</td><td style=\"text-align: right;\">                 1</td><td style=\"text-align: right;\">   0.545107</td><td style=\"text-align: right;\">0.775 </td><td style=\"text-align: right;\">     1</td><td style=\"text-align: right;\">         8.67734</td></tr>\n",
       "</tbody>\n",
       "</table><br><br>"
      ],
      "text/plain": [
       "<IPython.core.display.HTML object>"
      ]
     },
     "metadata": {},
     "output_type": "display_data"
    },
    {
     "name": "stderr",
     "output_type": "stream",
     "text": [
      "2021-10-31 21:54:08,810\tINFO tune.py:617 -- Total run time: 35.58 seconds (35.44 seconds for the tuning loop).\n"
     ]
    }
   ],
   "source": [
    "# https://docs.ray.io/en/latest/tune/tutorials/tune-xgboost.html\n",
    "\n",
    "from ray import tune\n",
    "from ray.tune.integration.xgboost import TuneReportCheckpointCallback\n",
    "\n",
    "def train_xgb(config):\n",
    "    X_train, X_test, y_train, y_test = train_test_split(X, y, test_size=0.2, random_state=42)\n",
    "    # Build input matrices for XGBoost\n",
    "    train_set = xgb.DMatrix(X_train, label=y_train)\n",
    "    test_set = xgb.DMatrix(X_test, label=y_test)\n",
    "    # Train the classifier\n",
    "    results = {}\n",
    "    xgb.train(\n",
    "     config,\n",
    "     train_set,\n",
    "     evals=[(test_set, \"eval\")],\n",
    "     evals_result=results,\n",
    "     verbose_eval=False)\n",
    "    # Return prediction accuracy\n",
    "    accuracy = 1. - results[\"eval\"][\"error\"][-1]\n",
    "    tune.report(mean_accuracy=accuracy, done=True)\n",
    "\n",
    "\n",
    "config = {\n",
    "    \"objective\": \"binary:logistic\",\n",
    "    \"eval_metric\": [\"logloss\", \"error\"],\n",
    "    \"max_depth\": tune.randint(1, 9),\n",
    "    \"min_child_weight\": tune.choice([1, 2, 3]),\n",
    "    \"subsample\": tune.uniform(0.5, 1.0),\n",
    "    \"eta\": tune.loguniform(1e-4, 1e-1)\n",
    "}\n",
    "analysis = tune.run(train_xgb,\n",
    "                    metric=\"mean_accuracy\",\n",
    "                    mode=\"max\",\n",
    "                    resources_per_trial={\"cpu\": 1},\n",
    "                    config=config,\n",
    "                    num_samples=10,\n",
    "                    log_to_file=True,\n",
    "                    progress_reporter=tune.progress_reporter.JupyterNotebookReporter(overwrite=True))\n"
   ]
  },
  {
   "cell_type": "code",
   "execution_count": 35,
   "id": "b0beeb07",
   "metadata": {
    "scrolled": true
   },
   "outputs": [
    {
     "name": "stdout",
     "output_type": "stream",
     "text": [
      "Best hyperparameters found were:  {'objective': 'binary:logistic', 'eval_metric': ['logloss', 'error'], 'max_depth': 8, 'min_child_weight': 3, 'subsample': 0.7141343612267175, 'eta': 0.0012012503979470456}\n"
     ]
    },
    {
     "name": "stderr",
     "output_type": "stream",
     "text": [
      "[2021-10-31 22:04:46,440 E 34113 34803] direct_task_transport.cc:556: The worker failed to receive a response from the local raylet. This is most likely because the local raylet has crahsed.\n",
      "2021-10-31 22:04:46,546\tWARNING worker.py:1227 -- The autoscaler failed with the following error:\n",
      "Traceback (most recent call last):\n",
      "  File \"/usr/lib/python3.9/site-packages/ray/autoscaler/_private/monitor.py\", line 331, in run\n",
      "    self._run()\n",
      "  File \"/usr/lib/python3.9/site-packages/ray/autoscaler/_private/monitor.py\", line 220, in _run\n",
      "    self.update_load_metrics()\n",
      "  File \"/usr/lib/python3.9/site-packages/ray/autoscaler/_private/monitor.py\", line 176, in update_load_metrics\n",
      "    response = self.gcs_node_resources_stub.GetAllResourceUsage(\n",
      "  File \"/usr/lib/python3.9/site-packages/grpc/_channel.py\", line 946, in __call__\n",
      "    return _end_unary_response_blocking(state, call, False, None)\n",
      "  File \"/usr/lib/python3.9/site-packages/grpc/_channel.py\", line 849, in _end_unary_response_blocking\n",
      "    raise _InactiveRpcError(state)\n",
      "grpc._channel._InactiveRpcError: <_InactiveRpcError of RPC that terminated with:\n",
      "\tstatus = StatusCode.DEADLINE_EXCEEDED\n",
      "\tdetails = \"Deadline Exceeded\"\n",
      "\tdebug_error_string = \"{\"created\":\"@1635710658.449009201\",\"description\":\"Error received from peer ipv4:10.80.1.25:34881\",\"file\":\"src/core/lib/surface/call.cc\",\"file_line\":1069,\"grpc_message\":\"Deadline Exceeded\",\"grpc_status\":4}\"\n",
      ">\n",
      "\n"
     ]
    }
   ],
   "source": [
    "\n",
    "print(\"Best hyperparameters found were: \", analysis.best_config)"
   ]
  },
  {
   "cell_type": "code",
   "execution_count": 18,
   "id": "ea8c49c2",
   "metadata": {},
   "outputs": [
    {
     "name": "stderr",
     "output_type": "stream",
     "text": [
      "2021-10-31 21:25:54,526\tERROR experiment_analysis.py:309 -- No checkpoints have been found for trial train_xgb_f0199_00003.\n"
     ]
    },
    {
     "ename": "TypeError",
     "evalue": "expected str, bytes or os.PathLike object, not NoneType",
     "output_type": "error",
     "traceback": [
      "\u001b[0;31m---------------------------------------------------------------------------\u001b[0m",
      "\u001b[0;31mTypeError\u001b[0m                                 Traceback (most recent call last)",
      "\u001b[0;32m/tmp/ipykernel_34113/2316875322.py\u001b[0m in \u001b[0;36m<module>\u001b[0;34m\u001b[0m\n\u001b[1;32m      9\u001b[0m     \u001b[0;32mreturn\u001b[0m \u001b[0mbest_bst\u001b[0m\u001b[0;34m\u001b[0m\u001b[0;34m\u001b[0m\u001b[0m\n\u001b[1;32m     10\u001b[0m \u001b[0;34m\u001b[0m\u001b[0m\n\u001b[0;32m---> 11\u001b[0;31m \u001b[0mbest_bst\u001b[0m \u001b[0;34m=\u001b[0m \u001b[0mget_best_model_checkpoint\u001b[0m\u001b[0;34m(\u001b[0m\u001b[0manalysis\u001b[0m\u001b[0;34m)\u001b[0m\u001b[0;34m\u001b[0m\u001b[0;34m\u001b[0m\u001b[0m\n\u001b[0m",
      "\u001b[0;32m/tmp/ipykernel_34113/2316875322.py\u001b[0m in \u001b[0;36mget_best_model_checkpoint\u001b[0;34m(analysis)\u001b[0m\n\u001b[1;32m      3\u001b[0m \u001b[0;32mdef\u001b[0m \u001b[0mget_best_model_checkpoint\u001b[0m\u001b[0;34m(\u001b[0m\u001b[0manalysis\u001b[0m\u001b[0;34m)\u001b[0m\u001b[0;34m:\u001b[0m\u001b[0;34m\u001b[0m\u001b[0;34m\u001b[0m\u001b[0m\n\u001b[1;32m      4\u001b[0m     \u001b[0mbest_bst\u001b[0m \u001b[0;34m=\u001b[0m \u001b[0mxgb\u001b[0m\u001b[0;34m.\u001b[0m\u001b[0mBooster\u001b[0m\u001b[0;34m(\u001b[0m\u001b[0;34m)\u001b[0m\u001b[0;34m\u001b[0m\u001b[0;34m\u001b[0m\u001b[0m\n\u001b[0;32m----> 5\u001b[0;31m     \u001b[0mbest_bst\u001b[0m\u001b[0;34m.\u001b[0m\u001b[0mload_model\u001b[0m\u001b[0;34m(\u001b[0m\u001b[0mos\u001b[0m\u001b[0;34m.\u001b[0m\u001b[0mpath\u001b[0m\u001b[0;34m.\u001b[0m\u001b[0mjoin\u001b[0m\u001b[0;34m(\u001b[0m\u001b[0manalysis\u001b[0m\u001b[0;34m.\u001b[0m\u001b[0mbest_checkpoint\u001b[0m\u001b[0;34m,\u001b[0m \u001b[0;34m\"model.xgb\"\u001b[0m\u001b[0;34m)\u001b[0m\u001b[0;34m)\u001b[0m\u001b[0;34m\u001b[0m\u001b[0;34m\u001b[0m\u001b[0m\n\u001b[0m\u001b[1;32m      6\u001b[0m     \u001b[0maccuracy\u001b[0m \u001b[0;34m=\u001b[0m \u001b[0;36m1.\u001b[0m \u001b[0;34m-\u001b[0m \u001b[0manalysis\u001b[0m\u001b[0;34m.\u001b[0m\u001b[0mbest_result\u001b[0m\u001b[0;34m[\u001b[0m\u001b[0;34m\"eval-error\"\u001b[0m\u001b[0;34m]\u001b[0m\u001b[0;34m\u001b[0m\u001b[0;34m\u001b[0m\u001b[0m\n\u001b[1;32m      7\u001b[0m     \u001b[0mprint\u001b[0m\u001b[0;34m(\u001b[0m\u001b[0;34mf\"Best model parameters: {analysis.best_config}\"\u001b[0m\u001b[0;34m)\u001b[0m\u001b[0;34m\u001b[0m\u001b[0;34m\u001b[0m\u001b[0m\n",
      "\u001b[0;32m/usr/lib/python3.9/posixpath.py\u001b[0m in \u001b[0;36mjoin\u001b[0;34m(a, *p)\u001b[0m\n\u001b[1;32m     74\u001b[0m     \u001b[0mwill\u001b[0m \u001b[0mbe\u001b[0m \u001b[0mdiscarded\u001b[0m\u001b[0;34m.\u001b[0m  \u001b[0mAn\u001b[0m \u001b[0mempty\u001b[0m \u001b[0mlast\u001b[0m \u001b[0mpart\u001b[0m \u001b[0mwill\u001b[0m \u001b[0mresult\u001b[0m \u001b[0;32min\u001b[0m \u001b[0ma\u001b[0m \u001b[0mpath\u001b[0m \u001b[0mthat\u001b[0m\u001b[0;34m\u001b[0m\u001b[0;34m\u001b[0m\u001b[0m\n\u001b[1;32m     75\u001b[0m     ends with a separator.\"\"\"\n\u001b[0;32m---> 76\u001b[0;31m     \u001b[0ma\u001b[0m \u001b[0;34m=\u001b[0m \u001b[0mos\u001b[0m\u001b[0;34m.\u001b[0m\u001b[0mfspath\u001b[0m\u001b[0;34m(\u001b[0m\u001b[0ma\u001b[0m\u001b[0;34m)\u001b[0m\u001b[0;34m\u001b[0m\u001b[0;34m\u001b[0m\u001b[0m\n\u001b[0m\u001b[1;32m     77\u001b[0m     \u001b[0msep\u001b[0m \u001b[0;34m=\u001b[0m \u001b[0m_get_sep\u001b[0m\u001b[0;34m(\u001b[0m\u001b[0ma\u001b[0m\u001b[0;34m)\u001b[0m\u001b[0;34m\u001b[0m\u001b[0;34m\u001b[0m\u001b[0m\n\u001b[1;32m     78\u001b[0m     \u001b[0mpath\u001b[0m \u001b[0;34m=\u001b[0m \u001b[0ma\u001b[0m\u001b[0;34m\u001b[0m\u001b[0;34m\u001b[0m\u001b[0m\n",
      "\u001b[0;31mTypeError\u001b[0m: expected str, bytes or os.PathLike object, not NoneType"
     ]
    }
   ],
   "source": [
    "import os\n",
    "\n",
    "def get_best_model_checkpoint(analysis):\n",
    "    best_bst = xgb.Booster()\n",
    "    best_bst.load_model(os.path.join(analysis.best_checkpoint, \"model.xgb\"))\n",
    "    accuracy = 1. - analysis.best_result[\"eval-error\"]\n",
    "    print(f\"Best model parameters: {analysis.best_config}\")\n",
    "    print(f\"Best model total accuracy: {accuracy:.4f}\")\n",
    "    return best_bst\n",
    "\n",
    "best_bst = get_best_model_checkpoint(analysis)"
   ]
  },
  {
   "cell_type": "code",
   "execution_count": 12,
   "id": "0af4d34e",
   "metadata": {},
   "outputs": [
    {
     "ename": "AttributeError",
     "evalue": "module 'shap' has no attribute 'Explainer'",
     "output_type": "error",
     "traceback": [
      "\u001b[0;31m---------------------------------------------------------------------------\u001b[0m",
      "\u001b[0;31mAttributeError\u001b[0m                            Traceback (most recent call last)",
      "\u001b[0;32m/tmp/ipykernel_34113/3144243664.py\u001b[0m in \u001b[0;36m<module>\u001b[0;34m\u001b[0m\n\u001b[1;32m      1\u001b[0m \u001b[0;31m# explain the model's predictions using SHAP\u001b[0m\u001b[0;34m\u001b[0m\u001b[0;34m\u001b[0m\u001b[0m\n\u001b[1;32m      2\u001b[0m \u001b[0;31m# (same syntax works for LightGBM, CatBoost, scikit-learn, transformers, Spark, etc.)\u001b[0m\u001b[0;34m\u001b[0m\u001b[0;34m\u001b[0m\u001b[0m\n\u001b[0;32m----> 3\u001b[0;31m \u001b[0mexplainer\u001b[0m \u001b[0;34m=\u001b[0m \u001b[0mshap\u001b[0m\u001b[0;34m.\u001b[0m\u001b[0mExplainer\u001b[0m\u001b[0;34m(\u001b[0m\u001b[0mmodel\u001b[0m\u001b[0;34m)\u001b[0m\u001b[0;34m\u001b[0m\u001b[0;34m\u001b[0m\u001b[0m\n\u001b[0m\u001b[1;32m      4\u001b[0m \u001b[0mshap_values\u001b[0m \u001b[0;34m=\u001b[0m \u001b[0mexplainer\u001b[0m\u001b[0;34m(\u001b[0m\u001b[0mX\u001b[0m\u001b[0;34m)\u001b[0m\u001b[0;34m\u001b[0m\u001b[0;34m\u001b[0m\u001b[0m\n\u001b[1;32m      5\u001b[0m \u001b[0;34m\u001b[0m\u001b[0m\n",
      "\u001b[0;31mAttributeError\u001b[0m: module 'shap' has no attribute 'Explainer'"
     ]
    }
   ],
   "source": [
    "# explain the model's predictions using SHAP\n",
    "# (same syntax works for LightGBM, CatBoost, scikit-learn, transformers, Spark, etc.)\n",
    "explainer = shap.Explainer(model)\n",
    "shap_values = explainer(x_train)\n",
    "\n",
    "# visualize the first prediction's explanation\n",
    "shap.plots.waterfall(shap_values[0])"
   ]
  }
 ],
 "metadata": {
  "kernelspec": {
   "display_name": "Python 3 (ipykernel)",
   "language": "python",
   "name": "python3"
  },
  "language_info": {
   "codemirror_mode": {
    "name": "ipython",
    "version": 3
   },
   "file_extension": ".py",
   "mimetype": "text/x-python",
   "name": "python",
   "nbconvert_exporter": "python",
   "pygments_lexer": "ipython3",
   "version": "3.9.7"
  }
 },
 "nbformat": 4,
 "nbformat_minor": 5
}
