{
 "cells": [
  {
   "cell_type": "code",
   "execution_count": 10,
   "metadata": {},
   "outputs": [
    {
     "name": "stdout",
     "output_type": "stream",
     "text": [
      "TA-Lib Version : 0.4.19\n",
      "MPLFinance Version : 0.12.10b0\n"
     ]
    }
   ],
   "source": [
    "import yfinance as yf\n",
    "import pandas as pd\n",
    "import mplfinance as fplt\n",
    "import talib # pip install TA-Lib # or via conda install -c conda-forge ta-lib\n",
    "\n",
    "print(\"TA-Lib Version : {}\".format(talib.__version__))\n",
    "print(\"MPLFinance Version : {}\".format(fplt.__version__))"
   ]
  },
  {
   "cell_type": "code",
   "execution_count": 11,
   "metadata": {},
   "outputs": [
    {
     "name": "stderr",
     "output_type": "stream",
     "text": [
      "[*********************100%%**********************]  14 of 14 completed\n"
     ]
    }
   ],
   "source": [
    "# Example usage\n",
    "symbols = {\n",
    "            \"AMD\": (20, \"$\"),\n",
    "            \"ABEA.DE\": (42, \"€\"),\n",
    "            \"AMZN\": (75, \"€\"),\n",
    "            #\"ARM\": (30, \"$\"),\n",
    "            \"ASML\": (10, \"$\"),\n",
    "            #\"BSI.MU\": (51, \"€\"),\n",
    "            \"BTC-USD\": (0.025, \"$\"),\n",
    "            \"CRM\": (7, \"$\"),\n",
    "            #\"DDOG\": (7, \"$\"),\n",
    "            \"ETH-USD\": (0.493, \"$\"),\n",
    "            \"KLAC\": (3, \"$\"),\n",
    "            #\"MDB\": (5, \"$\"),\n",
    "            \"META\": (15, \"$\"),\n",
    "            #\"MSFT\": (6, \"$\"),\n",
    "            \"NVDA\": (13, \"$\"),\n",
    "            #\"ISRG\": (3, \"$\"),\n",
    "            \"QCOM\": (20, \"$\"),\n",
    "            #\"RDC.DE\": (10, \"€\"),\n",
    "            #\"RHM.DE\": (5, \"€\"),\n",
    "            #\"SAAB-B.ST\": (19, \"SEK\"),\n",
    "            #\"SHL.DE\": (19, \"€\"),\n",
    "            #\"SMCI\": (6, \"$\"),\n",
    "            \"TSFA.F\": (17, \"$\"),\n",
    "            \"DTE.DE\": (0, \"€\"),\n",
    "            \"^GSPC\": (0, \"$\"),\n",
    "           }\n",
    "df = yf.download(list(symbols.keys()), period=\"200d\")"
   ]
  },
  {
   "cell_type": "code",
   "execution_count": 12,
   "metadata": {},
   "outputs": [],
   "source": [
    "import warnings\n",
    "warnings.simplefilter(action='ignore', category=FutureWarning)\n",
    "warnings.simplefilter(action='ignore', category=pd.errors.PerformanceWarning)\n",
    "\n",
    "sek_factor = yf.download(\"SEK=X\", period=\"1d\", progress=False).iloc[-1][\"Adj Close\"]\n",
    "euro_factor = yf.download(\"EURUSD=X\", period=\"1d\", progress=False).iloc[-1][\"Adj Close\"]\n",
    "\n",
    "for symbol in symbols:\n",
    "    df[\"SMA50\", symbol] = df[\"Adj Close\", symbol].rolling(50).mean()\n",
    "    df[\"SMA200\", symbol] = df[\"Adj Close\", symbol].rolling(200).mean()\n",
    "    # df[\"RSI\", symbol] = talib.RSI(df[\"Adj Close\", symbol], timeperiod=3)\n",
    "    df[\"EMA\", symbol] = df[\"Adj Close\", symbol].ewm(span=50, adjust=False).mean()\n",
    "    df[\"Adj Daily Return\", symbol] = df[\"Adj Close\", symbol].pct_change()\n",
    "    df[\"Cum Adj Daily Return\", symbol] = df[\"Adj Daily Return\", symbol].cumsum()"
   ]
  },
  {
   "cell_type": "code",
   "execution_count": 13,
   "metadata": {},
   "outputs": [
    {
     "data": {
      "text/html": [
       "<div>\n",
       "<style scoped>\n",
       "    .dataframe tbody tr th:only-of-type {\n",
       "        vertical-align: middle;\n",
       "    }\n",
       "\n",
       "    .dataframe tbody tr th {\n",
       "        vertical-align: top;\n",
       "    }\n",
       "\n",
       "    .dataframe thead th {\n",
       "        text-align: right;\n",
       "    }\n",
       "</style>\n",
       "<table border=\"1\" class=\"dataframe\">\n",
       "  <thead>\n",
       "    <tr style=\"text-align: right;\">\n",
       "      <th>Ticker</th>\n",
       "      <th>AMD</th>\n",
       "      <th>ABEA.DE</th>\n",
       "      <th>AMZN</th>\n",
       "      <th>ASML</th>\n",
       "      <th>BTC-USD</th>\n",
       "      <th>CRM</th>\n",
       "      <th>ETH-USD</th>\n",
       "      <th>KLAC</th>\n",
       "      <th>META</th>\n",
       "      <th>NVDA</th>\n",
       "      <th>QCOM</th>\n",
       "      <th>TSFA.F</th>\n",
       "      <th>DTE.DE</th>\n",
       "      <th>^GSPC</th>\n",
       "    </tr>\n",
       "    <tr>\n",
       "      <th>Date</th>\n",
       "      <th></th>\n",
       "      <th></th>\n",
       "      <th></th>\n",
       "      <th></th>\n",
       "      <th></th>\n",
       "      <th></th>\n",
       "      <th></th>\n",
       "      <th></th>\n",
       "      <th></th>\n",
       "      <th></th>\n",
       "      <th></th>\n",
       "      <th></th>\n",
       "      <th></th>\n",
       "      <th></th>\n",
       "    </tr>\n",
       "  </thead>\n",
       "  <tbody>\n",
       "    <tr>\n",
       "      <th>2024-05-25</th>\n",
       "      <td>0.00</td>\n",
       "      <td>0.00</td>\n",
       "      <td>0.00</td>\n",
       "      <td>0.00</td>\n",
       "      <td>1.08</td>\n",
       "      <td>0.0</td>\n",
       "      <td>0.60</td>\n",
       "      <td>0.00</td>\n",
       "      <td>0.00</td>\n",
       "      <td>0.00</td>\n",
       "      <td>0.00</td>\n",
       "      <td>0.00</td>\n",
       "      <td>0.00</td>\n",
       "      <td>0.00</td>\n",
       "    </tr>\n",
       "    <tr>\n",
       "      <th>2024-05-26</th>\n",
       "      <td>0.00</td>\n",
       "      <td>0.00</td>\n",
       "      <td>0.00</td>\n",
       "      <td>0.00</td>\n",
       "      <td>-1.08</td>\n",
       "      <td>0.0</td>\n",
       "      <td>2.04</td>\n",
       "      <td>0.00</td>\n",
       "      <td>0.00</td>\n",
       "      <td>0.00</td>\n",
       "      <td>0.00</td>\n",
       "      <td>0.00</td>\n",
       "      <td>0.00</td>\n",
       "      <td>0.00</td>\n",
       "    </tr>\n",
       "    <tr>\n",
       "      <th>2024-05-27</th>\n",
       "      <td>0.00</td>\n",
       "      <td>0.60</td>\n",
       "      <td>0.00</td>\n",
       "      <td>0.00</td>\n",
       "      <td>1.28</td>\n",
       "      <td>0.0</td>\n",
       "      <td>1.73</td>\n",
       "      <td>0.00</td>\n",
       "      <td>0.00</td>\n",
       "      <td>0.00</td>\n",
       "      <td>0.00</td>\n",
       "      <td>2.59</td>\n",
       "      <td>0.00</td>\n",
       "      <td>0.00</td>\n",
       "    </tr>\n",
       "    <tr>\n",
       "      <th>2024-05-28</th>\n",
       "      <td>3.16</td>\n",
       "      <td>-0.14</td>\n",
       "      <td>0.77</td>\n",
       "      <td>3.73</td>\n",
       "      <td>0.00</td>\n",
       "      <td>-0.9</td>\n",
       "      <td>0.00</td>\n",
       "      <td>0.91</td>\n",
       "      <td>0.36</td>\n",
       "      <td>6.98</td>\n",
       "      <td>1.29</td>\n",
       "      <td>-3.45</td>\n",
       "      <td>-0.18</td>\n",
       "      <td>0.02</td>\n",
       "    </tr>\n",
       "    <tr>\n",
       "      <th>2024-05-29</th>\n",
       "      <td>0.00</td>\n",
       "      <td>0.00</td>\n",
       "      <td>0.00</td>\n",
       "      <td>0.00</td>\n",
       "      <td>-1.11</td>\n",
       "      <td>0.0</td>\n",
       "      <td>-0.71</td>\n",
       "      <td>0.00</td>\n",
       "      <td>0.00</td>\n",
       "      <td>0.00</td>\n",
       "      <td>0.00</td>\n",
       "      <td>0.00</td>\n",
       "      <td>0.00</td>\n",
       "      <td>0.00</td>\n",
       "    </tr>\n",
       "  </tbody>\n",
       "</table>\n",
       "</div>"
      ],
      "text/plain": [
       "Ticker       AMD  ABEA.DE  AMZN  ASML  BTC-USD  CRM  ETH-USD  KLAC  META  \\\n",
       "Date                                                                       \n",
       "2024-05-25  0.00     0.00  0.00  0.00     1.08  0.0     0.60  0.00  0.00   \n",
       "2024-05-26  0.00     0.00  0.00  0.00    -1.08  0.0     2.04  0.00  0.00   \n",
       "2024-05-27  0.00     0.60  0.00  0.00     1.28  0.0     1.73  0.00  0.00   \n",
       "2024-05-28  3.16    -0.14  0.77  3.73     0.00 -0.9     0.00  0.91  0.36   \n",
       "2024-05-29  0.00     0.00  0.00  0.00    -1.11  0.0    -0.71  0.00  0.00   \n",
       "\n",
       "Ticker      NVDA  QCOM  TSFA.F  DTE.DE  ^GSPC  \n",
       "Date                                           \n",
       "2024-05-25  0.00  0.00    0.00    0.00   0.00  \n",
       "2024-05-26  0.00  0.00    0.00    0.00   0.00  \n",
       "2024-05-27  0.00  0.00    2.59    0.00   0.00  \n",
       "2024-05-28  6.98  1.29   -3.45   -0.18   0.02  \n",
       "2024-05-29  0.00  0.00    0.00    0.00   0.00  "
      ]
     },
     "execution_count": 13,
     "metadata": {},
     "output_type": "execute_result"
    }
   ],
   "source": [
    "round(df[\"Adj Daily Return\"].iloc[-5:] * 100, 2)"
   ]
  },
  {
   "cell_type": "code",
   "execution_count": 14,
   "metadata": {},
   "outputs": [
    {
     "name": "stdout",
     "output_type": "stream",
     "text": [
      "avg7:  55245.558395727945\n"
     ]
    },
    {
     "data": {
      "text/plain": [
       "Date\n",
       "2024-05-22    65220.475616\n",
       "2024-05-23    66156.553548\n",
       "2024-05-24    67144.102413\n",
       "2024-05-25             NaN\n",
       "2024-05-26             NaN\n",
       "2024-05-27    12500.083403\n",
       "2024-05-28    65206.576999\n",
       "Name: Total Portfolio Value, dtype: float64"
      ]
     },
     "execution_count": 14,
     "metadata": {},
     "output_type": "execute_result"
    }
   ],
   "source": [
    "total_portfolio_value = 0\n",
    "for day in df.index:\n",
    "    if not day.weekday() < 5:\n",
    "        continue\n",
    "    total_portfolio_value = 0\n",
    "    for ticker, (amount_shares, currency) in symbols.items():\n",
    "        last_price = df[\"Adj Close\", ticker].loc[day]\n",
    "        if pd.isna(last_price):\n",
    "            last_price = 0\n",
    "        if currency == \"€\":\n",
    "            last_price /= euro_factor\n",
    "        if currency == \"SEK\":\n",
    "            last_price /= sek_factor\n",
    "        # print(ticker, \" $ value: \", round(amount_shares * last_price))\n",
    "        # print(ticker, \"€:\", amount_shares * last_price / euro_factor)\n",
    "        total_portfolio_value += amount_shares * last_price \n",
    "        df.loc[day, \"Total Portfolio Value\"] = total_portfolio_value\n",
    "    #print(\"Total $: \", total_portfolio_value)\n",
    "\n",
    "print(\"avg7: \", df[\"Total Portfolio Value\"][-8:-1].mean())\n",
    "df[\"Total Portfolio Value\"][-8:-1]\n"
   ]
  },
  {
   "cell_type": "code",
   "execution_count": 15,
   "metadata": {},
   "outputs": [],
   "source": [
    "df = df[df[\"Total Portfolio Value\"] > 30000]"
   ]
  },
  {
   "cell_type": "code",
   "execution_count": 16,
   "metadata": {},
   "outputs": [
    {
     "data": {
      "text/plain": [
       "<Axes: xlabel='Date'>"
      ]
     },
     "execution_count": 16,
     "metadata": {},
     "output_type": "execute_result"
    },
    {
     "data": {
      "image/png": "[encoded data removed]",
      "text/plain": [
       "<Figure size 640x480 with 1 Axes>"
      ]
     },
     "metadata": {},
     "output_type": "display_data"
    }
   ],
   "source": [
    "df[\"Total Portfolio Value\"].plot()"
   ]
  },
  {
   "cell_type": "code",
   "execution_count": 17,
   "metadata": {},
   "outputs": [
    {
     "data": {
      "image/png": "[encoded data removed]",
      "text/plain": [
       "<Figure size 1400x700 with 1 Axes>"
      ]
     },
     "metadata": {},
     "output_type": "display_data"
    }
   ],
   "source": [
    "from matplotlib import pyplot as plt\n",
    "plt.figure(figsize=(14,7))\n",
    "plt.plot(df['Cum Adj Daily Return'])\n",
    "plt.xlabel('Date')\n",
    "plt.legend(symbols)\n",
    "plt.show()"
   ]
  },
  {
   "cell_type": "code",
   "execution_count": 18,
   "metadata": {},
   "outputs": [
    {
     "data": {
      "application/vnd.plotly.v1+json": {
       "config": {
        "plotlyServerURL": "https://plot.ly"
       },
       "data": [
        {
         "hovertemplate": "Ticker=AMD<br>Date=%{x}<br>value=%{y}<extra></extra>",
         "legendgroup": "AMD",
         "line": {
          "color": "#636efa",
          "dash": "solid"
         },
         "marker": {
          "symbol": "circle"
         },
         "mode": "lines",
         "name": "AMD",
         "orientation": "v",
         "showlegend": true,
         "type": "scatter",
         "x": [
          "2024-04-03T00:00:00",
          "2024-04-04T00:00:00",
          "2024-04-05T00:00:00",
          "2024-04-08T00:00:00",
          "2024-04-09T00:00:00",
          "2024-04-10T00:00:00",
          "2024-04-11T00:00:00",
          "2024-04-12T00:00:00",
          "2024-04-15T00:00:00",
          "2024-04-16T00:00:00",
          "2024-04-17T00:00:00",
          "2024-04-18T00:00:00",
          "2024-04-19T00:00:00",
          "2024-04-22T00:00:00",
          "2024-04-23T00:00:00",
          "2024-04-24T00:00:00",
          "2024-04-25T00:00:00",
          "2024-04-26T00:00:00",
          "2024-04-29T00:00:00",
          "2024-04-30T00:00:00",
          "2024-05-01T00:00:00",
          "2024-05-02T00:00:00",
          "2024-05-03T00:00:00",
          "2024-05-06T00:00:00",
          "2024-05-07T00:00:00",
          "2024-05-08T00:00:00",
          "2024-05-09T00:00:00",
          "2024-05-10T00:00:00",
          "2024-05-13T00:00:00",
          "2024-05-14T00:00:00",
          "2024-05-15T00:00:00",
          "2024-05-16T00:00:00",
          "2024-05-17T00:00:00",
          "2024-05-20T00:00:00",
          "2024-05-21T00:00:00",
          "2024-05-22T00:00:00",
          "2024-05-23T00:00:00",
          "2024-05-24T00:00:00",
          "2024-05-28T00:00:00"
         ],
         "xaxis": "x",
         "y": [
          0.010492578584217371,
          -0.059819553441253226,
          -0.04323982168415508,
          -0.04591650084924548,
          -0.042182447753936314,
          -0.05403943487427665,
          -0.04138132111770065,
          -0.06917668103716657,
          -0.07528364233883755,
          -0.05364131168404951,
          -0.10561185329852918,
          -0.09652148613275902,
          -0.14218647644840887,
          -0.13727888103703,
          -0.12482200347503025,
          -0.12851566477711496,
          -0.11062706267886535,
          -0.09716295141344256,
          -0.0825523075747342,
          -0.078182543676386,
          -0.16383663747450528,
          -0.15986464248943633,
          -0.1420436979596844,
          -0.11797412156227027,
          -0.12798365816494173,
          -0.13322290185137875,
          -0.14632059194444857,
          -0.1510541906878472,
          -0.1597649708001,
          -0.1473338802092804,
          -0.11654527458978936,
          -0.09598801976144855,
          -0.08577654090999365,
          -0.07538387389752177,
          -0.08792601839076963,
          -0.07999700824341294,
          -0.10336785883388377,
          -0.07340568877294174,
          -0.042096423898666746
         ],
         "yaxis": "y"
        },
        {
         "hovertemplate": "Ticker=ABEA.DE<br>Date=%{x}<br>value=%{y}<extra></extra>",
         "legendgroup": "ABEA.DE",
         "line": {
          "color": "#EF553B",
          "dash": "solid"
         },
         "marker": {
          "symbol": "circle"
         },
         "mode": "lines",
         "name": "ABEA.DE",
         "orientation": "v",
         "showlegend": true,
         "type": "scatter",
         "x": [
          "2024-04-03T00:00:00",
          "2024-04-04T00:00:00",
          "2024-04-05T00:00:00",
          "2024-04-08T00:00:00",
          "2024-04-09T00:00:00",
          "2024-04-10T00:00:00",
          "2024-04-11T00:00:00",
          "2024-04-12T00:00:00",
          "2024-04-15T00:00:00",
          "2024-04-16T00:00:00",
          "2024-04-17T00:00:00",
          "2024-04-18T00:00:00",
          "2024-04-19T00:00:00",
          "2024-04-22T00:00:00",
          "2024-04-23T00:00:00",
          "2024-04-24T00:00:00",
          "2024-04-25T00:00:00",
          "2024-04-26T00:00:00",
          "2024-04-29T00:00:00",
          "2024-04-30T00:00:00",
          "2024-05-01T00:00:00",
          "2024-05-02T00:00:00",
          "2024-05-03T00:00:00",
          "2024-05-06T00:00:00",
          "2024-05-07T00:00:00",
          "2024-05-08T00:00:00",
          "2024-05-09T00:00:00",
          "2024-05-10T00:00:00",
          "2024-05-13T00:00:00",
          "2024-05-14T00:00:00",
          "2024-05-15T00:00:00",
          "2024-05-16T00:00:00",
          "2024-05-17T00:00:00",
          "2024-05-20T00:00:00",
          "2024-05-21T00:00:00",
          "2024-05-22T00:00:00",
          "2024-05-23T00:00:00",
          "2024-05-24T00:00:00",
          "2024-05-28T00:00:00"
         ],
         "xaxis": "x",
         "y": [
          -0.001512512704175295,
          0.009276002894509583,
          -0.009705037359129531,
          0.0020187648124364577,
          0.0049216732829932,
          0.023037910353819746,
          0.03511673503152413,
          0.06216240951038099,
          0.07351303273834553,
          0.0515426818251401,
          0.06282461216517854,
          0.06763162934741229,
          0.06438465433467722,
          0.06048630439867575,
          0.06679851653523261,
          0.06402147387031332,
          0.05073824708927699,
          0.14577786329838904,
          0.11667392860382342,
          0.12600648966045525,
          0.12944192847594926,
          0.11155624359653105,
          0.09938925025443546,
          0.09607612525037623,
          0.11614094940072761,
          0.11412663301283488,
          0.10334230762665497,
          0.0938039261370126,
          0.08057847329460277,
          0.09342137573890341,
          0.0877095514336238,
          0.11099754518061367,
          0.11368759876617374,
          0.12305232077162753,
          0.12263487275899776,
          0.11910091118690713,
          0.12783605438650392,
          0.11271988026937685,
          0.11111555644129556
         ],
         "yaxis": "y"
        },
        {
         "hovertemplate": "Ticker=AMZN<br>Date=%{x}<br>value=%{y}<extra></extra>",
         "legendgroup": "AMZN",
         "line": {
          "color": "#00cc96",
          "dash": "solid"
         },
         "marker": {
          "symbol": "circle"
         },
         "mode": "lines",
         "name": "AMZN",
         "orientation": "v",
         "showlegend": true,
         "type": "scatter",
         "x": [
          "2024-04-03T00:00:00",
          "2024-04-04T00:00:00",
          "2024-04-05T00:00:00",
          "2024-04-08T00:00:00",
          "2024-04-09T00:00:00",
          "2024-04-10T00:00:00",
          "2024-04-11T00:00:00",
          "2024-04-12T00:00:00",
          "2024-04-15T00:00:00",
          "2024-04-16T00:00:00",
          "2024-04-17T00:00:00",
          "2024-04-18T00:00:00",
          "2024-04-19T00:00:00",
          "2024-04-22T00:00:00",
          "2024-04-23T00:00:00",
          "2024-04-24T00:00:00",
          "2024-04-25T00:00:00",
          "2024-04-26T00:00:00",
          "2024-04-29T00:00:00",
          "2024-04-30T00:00:00",
          "2024-05-01T00:00:00",
          "2024-05-02T00:00:00",
          "2024-05-03T00:00:00",
          "2024-05-06T00:00:00",
          "2024-05-07T00:00:00",
          "2024-05-08T00:00:00",
          "2024-05-09T00:00:00",
          "2024-05-10T00:00:00",
          "2024-05-13T00:00:00",
          "2024-05-14T00:00:00",
          "2024-05-15T00:00:00",
          "2024-05-16T00:00:00",
          "2024-05-17T00:00:00",
          "2024-05-20T00:00:00",
          "2024-05-21T00:00:00",
          "2024-05-22T00:00:00",
          "2024-05-23T00:00:00",
          "2024-05-24T00:00:00",
          "2024-05-28T00:00:00"
         ],
         "xaxis": "x",
         "y": [
          0.008427950065790668,
          0.007550271648747775,
          0.02461778483118693,
          0.025640792727103734,
          0.02678720903874854,
          0.0377522350482179,
          0.04697861859276553,
          0.04608366752433035,
          0.04461977184200028,
          0.045042536338475436,
          0.039695010853336044,
          0.030539548000776073,
          0.013687135818942875,
          0.019844456561703194,
          0.02091377756714141,
          0.0042699049762287,
          -0.007689132304323332,
          0.016362086729470482,
          0.020643896570323284,
          0.0034389189285013444,
          0.029731500601138272,
          0.0525583776057057,
          0.04806793001998688,
          0.051113752542262025,
          0.05008827480994649,
          0.046067862658708214,
          0.048955638364337806,
          0.03664658636695983,
          0.03203410108981264,
          0.02987624710946446,
          0.012387069701181863,
          0.0017798803469608604,
          0.006441998068940746,
          -0.0007548665911292218,
          -0.005381614998311912,
          -0.0027846320865114738,
          -0.006761903954607962,
          -0.015419964199231417,
          -0.007923294978946283
         ],
         "yaxis": "y"
        },
        {
         "hovertemplate": "Ticker=ASML<br>Date=%{x}<br>value=%{y}<extra></extra>",
         "legendgroup": "ASML",
         "line": {
          "color": "#ab63fa",
          "dash": "solid"
         },
         "marker": {
          "symbol": "circle"
         },
         "mode": "lines",
         "name": "ASML",
         "orientation": "v",
         "showlegend": true,
         "type": "scatter",
         "x": [
          "2024-04-03T00:00:00",
          "2024-04-04T00:00:00",
          "2024-04-05T00:00:00",
          "2024-04-08T00:00:00",
          "2024-04-09T00:00:00",
          "2024-04-10T00:00:00",
          "2024-04-11T00:00:00",
          "2024-04-12T00:00:00",
          "2024-04-15T00:00:00",
          "2024-04-16T00:00:00",
          "2024-04-17T00:00:00",
          "2024-04-18T00:00:00",
          "2024-04-19T00:00:00",
          "2024-04-22T00:00:00",
          "2024-04-23T00:00:00",
          "2024-04-24T00:00:00",
          "2024-04-25T00:00:00",
          "2024-04-26T00:00:00",
          "2024-04-29T00:00:00",
          "2024-04-30T00:00:00",
          "2024-05-01T00:00:00",
          "2024-05-02T00:00:00",
          "2024-05-03T00:00:00",
          "2024-05-06T00:00:00",
          "2024-05-07T00:00:00",
          "2024-05-08T00:00:00",
          "2024-05-09T00:00:00",
          "2024-05-10T00:00:00",
          "2024-05-13T00:00:00",
          "2024-05-14T00:00:00",
          "2024-05-15T00:00:00",
          "2024-05-16T00:00:00",
          "2024-05-17T00:00:00",
          "2024-05-20T00:00:00",
          "2024-05-21T00:00:00",
          "2024-05-22T00:00:00",
          "2024-05-23T00:00:00",
          "2024-05-24T00:00:00",
          "2024-05-28T00:00:00"
         ],
         "xaxis": "x",
         "y": [
          0.01293583637875817,
          -0.002130506344896199,
          0.014187679403638409,
          0.017788344453670835,
          0.023588122667759004,
          0.01766866233936415,
          0.02825162274492532,
          0.01222324012770748,
          0.01694601983585009,
          0.04214825361578267,
          -0.023018651397808232,
          -0.041281775164155654,
          -0.0656942489642729,
          -0.05987116290191641,
          -0.037984465615514384,
          -0.04845739062780641,
          -0.03246125436391589,
          -0.022314863870082413,
          -0.03550446792277828,
          -0.060773380594591364,
          -0.07983721912595709,
          -0.06851633172035632,
          -0.04505021152252131,
          -0.038418184142929634,
          -0.04924991432957859,
          -0.04566565046182902,
          -0.04848553340708517,
          -0.03179966460831951,
          -0.04558623154071695,
          -0.05283340423853011,
          -0.04008024051056358,
          -0.05707220589116202,
          -0.052331860749136205,
          -0.037604465270156484,
          -0.05518977525599311,
          -0.055661105694505,
          -0.035356544143861135,
          -0.018841428633957213,
          0.018171075462003583
         ],
         "yaxis": "y"
        },
        {
         "hovertemplate": "Ticker=BTC-USD<br>Date=%{x}<br>value=%{y}<extra></extra>",
         "legendgroup": "BTC-USD",
         "line": {
          "color": "#FFA15A",
          "dash": "solid"
         },
         "marker": {
          "symbol": "circle"
         },
         "mode": "lines",
         "name": "BTC-USD",
         "orientation": "v",
         "showlegend": true,
         "type": "scatter",
         "x": [
          "2024-04-03T00:00:00",
          "2024-04-04T00:00:00",
          "2024-04-05T00:00:00",
          "2024-04-08T00:00:00",
          "2024-04-09T00:00:00",
          "2024-04-10T00:00:00",
          "2024-04-11T00:00:00",
          "2024-04-12T00:00:00",
          "2024-04-15T00:00:00",
          "2024-04-16T00:00:00",
          "2024-04-17T00:00:00",
          "2024-04-18T00:00:00",
          "2024-04-19T00:00:00",
          "2024-04-22T00:00:00",
          "2024-04-23T00:00:00",
          "2024-04-24T00:00:00",
          "2024-04-25T00:00:00",
          "2024-04-26T00:00:00",
          "2024-04-29T00:00:00",
          "2024-04-30T00:00:00",
          "2024-05-01T00:00:00",
          "2024-05-02T00:00:00",
          "2024-05-03T00:00:00",
          "2024-05-06T00:00:00",
          "2024-05-07T00:00:00",
          "2024-05-08T00:00:00",
          "2024-05-09T00:00:00",
          "2024-05-10T00:00:00",
          "2024-05-13T00:00:00",
          "2024-05-14T00:00:00",
          "2024-05-15T00:00:00",
          "2024-05-16T00:00:00",
          "2024-05-17T00:00:00",
          "2024-05-20T00:00:00",
          "2024-05-21T00:00:00",
          "2024-05-22T00:00:00",
          "2024-05-23T00:00:00",
          "2024-05-24T00:00:00",
          "2024-05-28T00:00:00"
         ],
         "xaxis": "x",
         "y": [
          0.007065707845838265,
          0.057714686805385496,
          0.03681817175596602,
          0.06990216153902995,
          0.033662637187553246,
          0.06407547285430404,
          0.049160930812377934,
          0.022822134802291782,
          -0.00033388203553152973,
          0.007802955775588316,
          -0.02614529041029745,
          0.01255411048468702,
          0.026521319643233787,
          0.04722382977761719,
          0.028819678524304004,
          -0.0034737782972242837,
          0.004289000475842908,
          -0.01718514664145776,
          -0.00883050439202393,
          -0.04329124011443641,
          -0.07915275579269954,
          -0.07335652331794085,
          -0.022209210097741905,
          -0.04610972439224226,
          -0.06054858307309385,
          -0.07894137387464084,
          -0.053601169806167026,
          -0.09105048922461689,
          -0.06716243738057592,
          -0.09344109445955584,
          -0.028560929836697113,
          -0.04211151433078675,
          -0.015371200886735381,
          0.06171415159016125,
          0.04085402411441075,
          0.029099846730667234,
          0.019224659239174047,
          0.021005346439121553,
          0.020756544586187475
         ],
         "yaxis": "y"
        },
        {
         "hovertemplate": "Ticker=CRM<br>Date=%{x}<br>value=%{y}<extra></extra>",
         "legendgroup": "CRM",
         "line": {
          "color": "#19d3f3",
          "dash": "solid"
         },
         "marker": {
          "symbol": "circle"
         },
         "mode": "lines",
         "name": "CRM",
         "orientation": "v",
         "showlegend": true,
         "type": "scatter",
         "x": [
          "2024-04-03T00:00:00",
          "2024-04-04T00:00:00",
          "2024-04-05T00:00:00",
          "2024-04-08T00:00:00",
          "2024-04-09T00:00:00",
          "2024-04-10T00:00:00",
          "2024-04-11T00:00:00",
          "2024-04-12T00:00:00",
          "2024-04-15T00:00:00",
          "2024-04-16T00:00:00",
          "2024-04-17T00:00:00",
          "2024-04-18T00:00:00",
          "2024-04-19T00:00:00",
          "2024-04-22T00:00:00",
          "2024-04-23T00:00:00",
          "2024-04-24T00:00:00",
          "2024-04-25T00:00:00",
          "2024-04-26T00:00:00",
          "2024-04-29T00:00:00",
          "2024-04-30T00:00:00",
          "2024-05-01T00:00:00",
          "2024-05-02T00:00:00",
          "2024-05-03T00:00:00",
          "2024-05-06T00:00:00",
          "2024-05-07T00:00:00",
          "2024-05-08T00:00:00",
          "2024-05-09T00:00:00",
          "2024-05-10T00:00:00",
          "2024-05-13T00:00:00",
          "2024-05-14T00:00:00",
          "2024-05-15T00:00:00",
          "2024-05-16T00:00:00",
          "2024-05-17T00:00:00",
          "2024-05-20T00:00:00",
          "2024-05-21T00:00:00",
          "2024-05-22T00:00:00",
          "2024-05-23T00:00:00",
          "2024-05-24T00:00:00",
          "2024-05-28T00:00:00"
         ],
         "xaxis": "x",
         "y": [
          0.0013430560378613343,
          -0.021106278694064562,
          -0.005789519150032785,
          -0.006011068051678392,
          -0.005335512268832887,
          -0.004973349374158609,
          -0.013986804812407883,
          -0.015581818240862244,
          -0.07633843588990841,
          -0.05775569264904157,
          -0.05590427893525596,
          -0.06961966318358737,
          -0.06656138805558165,
          -0.06256932176697949,
          -0.06405219487588731,
          -0.06603616867638462,
          -0.07250281651544699,
          -0.07850168663495805,
          -0.07639382648867754,
          -0.08532418195888924,
          -0.0828183185049276,
          -0.07914388829994734,
          -0.08607831974286717,
          -0.08920572555318729,
          -0.08492571901064383,
          -0.07846195499857778,
          -0.09717439524601157,
          -0.0933726187196886,
          -0.09005915091442973,
          -0.0974913761657713,
          -0.07040664933162655,
          -0.07827147866737083,
          -0.07616945191170021,
          -0.07197389882351901,
          -0.08600605304848952,
          -0.08308849232767002,
          -0.09420534171419015,
          -0.12375008467993753,
          -0.13303345223655738
         ],
         "yaxis": "y"
        },
        {
         "hovertemplate": "Ticker=ETH-USD<br>Date=%{x}<br>value=%{y}<extra></extra>",
         "legendgroup": "ETH-USD",
         "line": {
          "color": "#FF6692",
          "dash": "solid"
         },
         "marker": {
          "symbol": "circle"
         },
         "mode": "lines",
         "name": "ETH-USD",
         "orientation": "v",
         "showlegend": true,
         "type": "scatter",
         "x": [
          "2024-04-03T00:00:00",
          "2024-04-04T00:00:00",
          "2024-04-05T00:00:00",
          "2024-04-08T00:00:00",
          "2024-04-09T00:00:00",
          "2024-04-10T00:00:00",
          "2024-04-11T00:00:00",
          "2024-04-12T00:00:00",
          "2024-04-15T00:00:00",
          "2024-04-16T00:00:00",
          "2024-04-17T00:00:00",
          "2024-04-18T00:00:00",
          "2024-04-19T00:00:00",
          "2024-04-22T00:00:00",
          "2024-04-23T00:00:00",
          "2024-04-24T00:00:00",
          "2024-04-25T00:00:00",
          "2024-04-26T00:00:00",
          "2024-04-29T00:00:00",
          "2024-04-30T00:00:00",
          "2024-05-01T00:00:00",
          "2024-05-02T00:00:00",
          "2024-05-03T00:00:00",
          "2024-05-06T00:00:00",
          "2024-05-07T00:00:00",
          "2024-05-08T00:00:00",
          "2024-05-09T00:00:00",
          "2024-05-10T00:00:00",
          "2024-05-13T00:00:00",
          "2024-05-14T00:00:00",
          "2024-05-15T00:00:00",
          "2024-05-16T00:00:00",
          "2024-05-17T00:00:00",
          "2024-05-20T00:00:00",
          "2024-05-21T00:00:00",
          "2024-05-22T00:00:00",
          "2024-05-23T00:00:00",
          "2024-05-24T00:00:00",
          "2024-05-28T00:00:00"
         ],
         "xaxis": "x",
         "y": [
          0.009346725200706896,
          0.0272975372148192,
          0.012848451846701248,
          0.08323856619896441,
          0.03034129132004504,
          0.050803103081514256,
          0.0324970994871715,
          -0.027758019218874996,
          -0.033266778724674095,
          -0.03658819727978391,
          -0.06328578574364585,
          -0.03383894210425975,
          -0.027281621214359064,
          -0.018739739063211913,
          -0.025001159302046383,
          -0.050092630246526104,
          -0.0401960144776945,
          -0.05875131491211727,
          -0.07644063487224351,
          -0.12388741199271536,
          -0.13456158463426893,
          -0.13749974493494888,
          -0.11144636718303902,
          -0.14552586964405,
          -0.16520315000798547,
          -0.17614661661946884,
          -0.16026565111541158,
          -0.20349225529241988,
          -0.19619741164211724,
          -0.22415945138131832,
          -0.18176564843347442,
          -0.20995194992441368,
          -0.1605289758636922,
          0.031276868956399695,
          0.06301686818714869,
          0.05197512341480959,
          0.06998132331569318,
          0.049743945335319784,
          0.049495143482385706
         ],
         "yaxis": "y"
        },
        {
         "hovertemplate": "Ticker=KLAC<br>Date=%{x}<br>value=%{y}<extra></extra>",
         "legendgroup": "KLAC",
         "line": {
          "color": "#B6E880",
          "dash": "solid"
         },
         "marker": {
          "symbol": "circle"
         },
         "mode": "lines",
         "name": "KLAC",
         "orientation": "v",
         "showlegend": true,
         "type": "scatter",
         "x": [
          "2024-04-03T00:00:00",
          "2024-04-04T00:00:00",
          "2024-04-05T00:00:00",
          "2024-04-08T00:00:00",
          "2024-04-09T00:00:00",
          "2024-04-10T00:00:00",
          "2024-04-11T00:00:00",
          "2024-04-12T00:00:00",
          "2024-04-15T00:00:00",
          "2024-04-16T00:00:00",
          "2024-04-17T00:00:00",
          "2024-04-18T00:00:00",
          "2024-04-19T00:00:00",
          "2024-04-22T00:00:00",
          "2024-04-23T00:00:00",
          "2024-04-24T00:00:00",
          "2024-04-25T00:00:00",
          "2024-04-26T00:00:00",
          "2024-04-29T00:00:00",
          "2024-04-30T00:00:00",
          "2024-05-01T00:00:00",
          "2024-05-02T00:00:00",
          "2024-05-03T00:00:00",
          "2024-05-06T00:00:00",
          "2024-05-07T00:00:00",
          "2024-05-08T00:00:00",
          "2024-05-09T00:00:00",
          "2024-05-10T00:00:00",
          "2024-05-13T00:00:00",
          "2024-05-14T00:00:00",
          "2024-05-15T00:00:00",
          "2024-05-16T00:00:00",
          "2024-05-17T00:00:00",
          "2024-05-20T00:00:00",
          "2024-05-21T00:00:00",
          "2024-05-22T00:00:00",
          "2024-05-23T00:00:00",
          "2024-05-24T00:00:00",
          "2024-05-28T00:00:00"
         ],
         "xaxis": "x",
         "y": [
          0.004096752235455581,
          -0.01909424703512408,
          -0.01519529167123479,
          -0.00313425243913934,
          0.0041201568236002295,
          -0.00035742609203148756,
          0.011830408997429376,
          -0.0019228038587757457,
          0.0067347788344162,
          0.03063391700873308,
          -0.013101593705005854,
          -0.033291700208252006,
          -0.049462543819720484,
          -0.04946980464063411,
          -0.03844027253042781,
          -0.025802567740635718,
          0.0037685737939971986,
          0.043057910105475994,
          0.050739472852247,
          0.031956721958174894,
          0.0016618494101916514,
          0.0165709843133357,
          0.025332359394039106,
          0.04628723373123922,
          0.03937571505147197,
          0.04325907859234224,
          0.02913225911211781,
          0.038177030376008836,
          0.032682332056755636,
          0.05200611623449791,
          0.08111656451735161,
          0.06971959461499155,
          0.06615317217496208,
          0.09883403689631443,
          0.0864201889650601,
          0.09771298529079253,
          0.09652832117469756,
          0.10777328880495107,
          0.11661238404855767
         ],
         "yaxis": "y"
        },
        {
         "hovertemplate": "Ticker=META<br>Date=%{x}<br>value=%{y}<extra></extra>",
         "legendgroup": "META",
         "line": {
          "color": "#FF97FF",
          "dash": "solid"
         },
         "marker": {
          "symbol": "circle"
         },
         "mode": "lines",
         "name": "META",
         "orientation": "v",
         "showlegend": true,
         "type": "scatter",
         "x": [
          "2024-04-03T00:00:00",
          "2024-04-04T00:00:00",
          "2024-04-05T00:00:00",
          "2024-04-08T00:00:00",
          "2024-04-09T00:00:00",
          "2024-04-10T00:00:00",
          "2024-04-11T00:00:00",
          "2024-04-12T00:00:00",
          "2024-04-15T00:00:00",
          "2024-04-16T00:00:00",
          "2024-04-17T00:00:00",
          "2024-04-18T00:00:00",
          "2024-04-19T00:00:00",
          "2024-04-22T00:00:00",
          "2024-04-23T00:00:00",
          "2024-04-24T00:00:00",
          "2024-04-25T00:00:00",
          "2024-04-26T00:00:00",
          "2024-04-29T00:00:00",
          "2024-04-30T00:00:00",
          "2024-05-01T00:00:00",
          "2024-05-02T00:00:00",
          "2024-05-03T00:00:00",
          "2024-05-06T00:00:00",
          "2024-05-07T00:00:00",
          "2024-05-08T00:00:00",
          "2024-05-09T00:00:00",
          "2024-05-10T00:00:00",
          "2024-05-13T00:00:00",
          "2024-05-14T00:00:00",
          "2024-05-15T00:00:00",
          "2024-05-16T00:00:00",
          "2024-05-17T00:00:00",
          "2024-05-20T00:00:00",
          "2024-05-21T00:00:00",
          "2024-05-22T00:00:00",
          "2024-05-23T00:00:00",
          "2024-05-24T00:00:00",
          "2024-05-28T00:00:00"
         ],
         "xaxis": "x",
         "y": [
          0.017747961635503406,
          0.038331150008448,
          0.059370085083689794,
          0.04440351980735813,
          0.03843231532679636,
          0.05355768935449412,
          0.05251874729905037,
          0.045546421935440895,
          0.03477038862514381,
          0.035887325420019045,
          0.030482566713856518,
          0.04813070529857422,
          0.015578011949251458,
          0.008218713182586379,
          0.026084113847892887,
          0.02063021269295251,
          -0.08040631565097356,
          -0.0862881130480988,
          -0.11353661342363164,
          -0.10346922617652521,
          -0.07906535922305469,
          -0.08252429057296229,
          -0.07180626360868103,
          -0.05177571550910265,
          -0.047621813261304324,
          -0.03830447935150727,
          -0.03742842051649142,
          -0.03743716739590175,
          -0.05439452405339973,
          -0.051027392303596764,
          -0.04220712793004522,
          -0.05738258812548336,
          -0.06133671838315746,
          -0.06875860152985203,
          -0.08024006686666008,
          -0.07075436897565723,
          -0.06764909363237315,
          -0.04794224306495709,
          -0.0446361701684207
         ],
         "yaxis": "y"
        },
        {
         "hovertemplate": "Ticker=NVDA<br>Date=%{x}<br>value=%{y}<extra></extra>",
         "legendgroup": "NVDA",
         "line": {
          "color": "#FECB52",
          "dash": "solid"
         },
         "marker": {
          "symbol": "circle"
         },
         "mode": "lines",
         "name": "NVDA",
         "orientation": "v",
         "showlegend": true,
         "type": "scatter",
         "x": [
          "2024-04-03T00:00:00",
          "2024-04-04T00:00:00",
          "2024-04-05T00:00:00",
          "2024-04-08T00:00:00",
          "2024-04-09T00:00:00",
          "2024-04-10T00:00:00",
          "2024-04-11T00:00:00",
          "2024-04-12T00:00:00",
          "2024-04-15T00:00:00",
          "2024-04-16T00:00:00",
          "2024-04-17T00:00:00",
          "2024-04-18T00:00:00",
          "2024-04-19T00:00:00",
          "2024-04-22T00:00:00",
          "2024-04-23T00:00:00",
          "2024-04-24T00:00:00",
          "2024-04-25T00:00:00",
          "2024-04-26T00:00:00",
          "2024-04-29T00:00:00",
          "2024-04-30T00:00:00",
          "2024-05-01T00:00:00",
          "2024-05-02T00:00:00",
          "2024-05-03T00:00:00",
          "2024-05-06T00:00:00",
          "2024-05-07T00:00:00",
          "2024-05-08T00:00:00",
          "2024-05-09T00:00:00",
          "2024-05-10T00:00:00",
          "2024-05-13T00:00:00",
          "2024-05-14T00:00:00",
          "2024-05-15T00:00:00",
          "2024-05-16T00:00:00",
          "2024-05-17T00:00:00",
          "2024-05-20T00:00:00",
          "2024-05-21T00:00:00",
          "2024-05-22T00:00:00",
          "2024-05-23T00:00:00",
          "2024-05-24T00:00:00",
          "2024-05-28T00:00:00"
         ],
         "xaxis": "x",
         "y": [
          -0.006546567493093125,
          -0.028596955696225335,
          -0.015215584599955756,
          -0.024783231383303184,
          -0.04664583257647681,
          -0.017447495863371576,
          0.016204178000962854,
          0.00393842271821665,
          -0.008817370576241212,
          0.009680822566179748,
          -0.023204762301841764,
          -0.013428271639221556,
          -0.10471580750084664,
          -0.06990375809753491,
          -0.045335740414156445,
          -0.07886464723758146,
          -0.037200993383420866,
          0.014345561301768561,
          0.011417903932157913,
          0.011708067826254553,
          -0.02375610867613831,
          0.0005447369661307766,
          0.022619867771627722,
          0.050034915871030816,
          0.031478499324856024,
          0.02991622868088939,
          0.006409556848317788,
          0.017504317205897735,
          0.02354232431169523,
          0.02929091968043851,
          0.05341280247461189,
          0.0526307262400495,
          0.03154199392027757,
          0.055506939542656064,
          0.059398816761689566,
          0.05753405369758935,
          0.15811125206556953,
          0.17683295384206021,
          0.24638857623419097
         ],
         "yaxis": "y"
        },
        {
         "hovertemplate": "Ticker=QCOM<br>Date=%{x}<br>value=%{y}<extra></extra>",
         "legendgroup": "QCOM",
         "line": {
          "color": "#636efa",
          "dash": "solid"
         },
         "marker": {
          "symbol": "circle"
         },
         "mode": "lines",
         "name": "QCOM",
         "orientation": "v",
         "showlegend": true,
         "type": "scatter",
         "x": [
          "2024-04-03T00:00:00",
          "2024-04-04T00:00:00",
          "2024-04-05T00:00:00",
          "2024-04-08T00:00:00",
          "2024-04-09T00:00:00",
          "2024-04-10T00:00:00",
          "2024-04-11T00:00:00",
          "2024-04-12T00:00:00",
          "2024-04-15T00:00:00",
          "2024-04-16T00:00:00",
          "2024-04-17T00:00:00",
          "2024-04-18T00:00:00",
          "2024-04-19T00:00:00",
          "2024-04-22T00:00:00",
          "2024-04-23T00:00:00",
          "2024-04-24T00:00:00",
          "2024-04-25T00:00:00",
          "2024-04-26T00:00:00",
          "2024-04-29T00:00:00",
          "2024-04-30T00:00:00",
          "2024-05-01T00:00:00",
          "2024-05-02T00:00:00",
          "2024-05-03T00:00:00",
          "2024-05-06T00:00:00",
          "2024-05-07T00:00:00",
          "2024-05-08T00:00:00",
          "2024-05-09T00:00:00",
          "2024-05-10T00:00:00",
          "2024-05-13T00:00:00",
          "2024-05-14T00:00:00",
          "2024-05-15T00:00:00",
          "2024-05-16T00:00:00",
          "2024-05-17T00:00:00",
          "2024-05-20T00:00:00",
          "2024-05-21T00:00:00",
          "2024-05-22T00:00:00",
          "2024-05-23T00:00:00",
          "2024-05-24T00:00:00",
          "2024-05-28T00:00:00"
         ],
         "xaxis": "x",
         "y": [
          0.015688639612823962,
          0.004160006220896406,
          0.0034873220002373806,
          0.016046389264888994,
          0.02583239164745299,
          0.008462428528373422,
          0.026008876616731458,
          0.018632930471740305,
          0.022189126886744237,
          0.016826919027234877,
          -0.0026623469191726645,
          -0.017980992753667713,
          -0.032822528254677796,
          -0.02537673062431567,
          -0.03003694005018176,
          -0.016119186597129853,
          -0.013559512469289547,
          -0.00931672267140704,
          0.008873856839458183,
          0.004805369804876447,
          -0.002250632013511944,
          0.08605561151152707,
          0.07094469800727377,
          0.07292099405893471,
          0.06222913338620706,
          0.06445539181217674,
          0.05930900370670622,
          0.06618961816774649,
          0.07812910357960912,
          0.09913133350672598,
          0.11726140950419184,
          0.11245753013179649,
          0.11434546177415239,
          0.13354665093612428,
          0.14666983576633053,
          0.15973187869133254,
          0.16134714207782497,
          0.19697103177386133,
          0.20965245055608195
         ],
         "yaxis": "y"
        },
        {
         "hovertemplate": "Ticker=TSFA.F<br>Date=%{x}<br>value=%{y}<extra></extra>",
         "legendgroup": "TSFA.F",
         "line": {
          "color": "#EF553B",
          "dash": "solid"
         },
         "marker": {
          "symbol": "circle"
         },
         "mode": "lines",
         "name": "TSFA.F",
         "orientation": "v",
         "showlegend": true,
         "type": "scatter",
         "x": [
          "2024-04-03T00:00:00",
          "2024-04-04T00:00:00",
          "2024-04-05T00:00:00",
          "2024-04-08T00:00:00",
          "2024-04-09T00:00:00",
          "2024-04-10T00:00:00",
          "2024-04-11T00:00:00",
          "2024-04-12T00:00:00",
          "2024-04-15T00:00:00",
          "2024-04-16T00:00:00",
          "2024-04-17T00:00:00",
          "2024-04-18T00:00:00",
          "2024-04-19T00:00:00",
          "2024-04-22T00:00:00",
          "2024-04-23T00:00:00",
          "2024-04-24T00:00:00",
          "2024-04-25T00:00:00",
          "2024-04-26T00:00:00",
          "2024-04-29T00:00:00",
          "2024-04-30T00:00:00",
          "2024-05-01T00:00:00",
          "2024-05-02T00:00:00",
          "2024-05-03T00:00:00",
          "2024-05-06T00:00:00",
          "2024-05-07T00:00:00",
          "2024-05-08T00:00:00",
          "2024-05-09T00:00:00",
          "2024-05-10T00:00:00",
          "2024-05-13T00:00:00",
          "2024-05-14T00:00:00",
          "2024-05-15T00:00:00",
          "2024-05-16T00:00:00",
          "2024-05-17T00:00:00",
          "2024-05-20T00:00:00",
          "2024-05-21T00:00:00",
          "2024-05-22T00:00:00",
          "2024-05-23T00:00:00",
          "2024-05-24T00:00:00",
          "2024-05-28T00:00:00"
         ],
         "xaxis": "x",
         "y": [
          -0.005671321628166193,
          0.003595576722163374,
          -0.00596517938876695,
          0.014378776989406372,
          0.02046340410504266,
          0.04337332205387234,
          0.04920277000662887,
          0.03900823233796724,
          0.04058187164032345,
          0.03358851325550538,
          0.03023671868956901,
          -0.013638071579326727,
          -0.03547530055119963,
          -0.029256420719417253,
          -0.026491020748799388,
          -0.025091152195297894,
          0.01330167953858541,
          0.007765481857401779,
          0.006137397130674627,
          0.021867910717536798,
          0.025303349533030817,
          -0.0024008921356662993,
          0.026051806810767686,
          0.014210554507981699,
          0.012867124684706632,
          0.01742524278264601,
          0.006292090931093952,
          0.05631432945425008,
          0.04065970110163586,
          0.06519046424400377,
          0.07629905146766336,
          0.06303903835407121,
          0.05337570270373204,
          0.06531647742173807,
          0.05717283283544328,
          0.08115555161935017,
          0.0982585209410628,
          0.10226164733968657,
          0.06753010780101498
         ],
         "yaxis": "y"
        },
        {
         "hovertemplate": "Ticker=DTE.DE<br>Date=%{x}<br>value=%{y}<extra></extra>",
         "legendgroup": "DTE.DE",
         "line": {
          "color": "#00cc96",
          "dash": "solid"
         },
         "marker": {
          "symbol": "circle"
         },
         "mode": "lines",
         "name": "DTE.DE",
         "orientation": "v",
         "showlegend": true,
         "type": "scatter",
         "x": [
          "2024-04-03T00:00:00",
          "2024-04-04T00:00:00",
          "2024-04-05T00:00:00",
          "2024-04-08T00:00:00",
          "2024-04-09T00:00:00",
          "2024-04-10T00:00:00",
          "2024-04-11T00:00:00",
          "2024-04-12T00:00:00",
          "2024-04-15T00:00:00",
          "2024-04-16T00:00:00",
          "2024-04-17T00:00:00",
          "2024-04-18T00:00:00",
          "2024-04-19T00:00:00",
          "2024-04-22T00:00:00",
          "2024-04-23T00:00:00",
          "2024-04-24T00:00:00",
          "2024-04-25T00:00:00",
          "2024-04-26T00:00:00",
          "2024-04-29T00:00:00",
          "2024-04-30T00:00:00",
          "2024-05-01T00:00:00",
          "2024-05-02T00:00:00",
          "2024-05-03T00:00:00",
          "2024-05-06T00:00:00",
          "2024-05-07T00:00:00",
          "2024-05-08T00:00:00",
          "2024-05-09T00:00:00",
          "2024-05-10T00:00:00",
          "2024-05-13T00:00:00",
          "2024-05-14T00:00:00",
          "2024-05-15T00:00:00",
          "2024-05-16T00:00:00",
          "2024-05-17T00:00:00",
          "2024-05-20T00:00:00",
          "2024-05-21T00:00:00",
          "2024-05-22T00:00:00",
          "2024-05-23T00:00:00",
          "2024-05-24T00:00:00",
          "2024-05-28T00:00:00"
         ],
         "xaxis": "x",
         "y": [
          -0.003330240081033886,
          0.00900409626934573,
          -0.014662420632475803,
          -0.011560562274318564,
          -0.006206396649963142,
          0.020810261305645672,
          -0.01503585758681103,
          -0.001899538955873581,
          0.007761044335196754,
          -0.004380236108911695,
          0.003800714059017163,
          0.009361441467637954,
          0.028143811877894498,
          0.04067914065824607,
          0.035193018144629384,
          0.03589956935976524,
          0.03588250502485679,
          0.03397979084152358,
          0.028055371241530458,
          0.030018049500060817,
          0.033453488315554836,
          0.03549302581566027,
          0.01971494710205879,
          0.013082263835380692,
          0.010818849744661296,
          0.007141447506697873,
          0.014065298154425476,
          0.015612232462547948,
          0.017674242789071593,
          0.012836429649311865,
          0.006118257750707845,
          -0.0021979696135242532,
          0.0016624105271271228,
          0.010291433520295379,
          0.004187581473356183,
          0.005990019416629244,
          -0.002006854743859976,
          -0.009467255562234267,
          -0.011554334763817065
         ],
         "yaxis": "y"
        },
        {
         "hovertemplate": "Ticker=^GSPC<br>Date=%{x}<br>value=%{y}<extra></extra>",
         "legendgroup": "^GSPC",
         "line": {
          "color": "#ab63fa",
          "dash": "solid"
         },
         "marker": {
          "symbol": "circle"
         },
         "mode": "lines",
         "name": "^GSPC",
         "orientation": "v",
         "showlegend": true,
         "type": "scatter",
         "x": [
          "2024-04-03T00:00:00",
          "2024-04-04T00:00:00",
          "2024-04-05T00:00:00",
          "2024-04-08T00:00:00",
          "2024-04-09T00:00:00",
          "2024-04-10T00:00:00",
          "2024-04-11T00:00:00",
          "2024-04-12T00:00:00",
          "2024-04-15T00:00:00",
          "2024-04-16T00:00:00",
          "2024-04-17T00:00:00",
          "2024-04-18T00:00:00",
          "2024-04-19T00:00:00",
          "2024-04-22T00:00:00",
          "2024-04-23T00:00:00",
          "2024-04-24T00:00:00",
          "2024-04-25T00:00:00",
          "2024-04-26T00:00:00",
          "2024-04-29T00:00:00",
          "2024-04-30T00:00:00",
          "2024-05-01T00:00:00",
          "2024-05-02T00:00:00",
          "2024-05-03T00:00:00",
          "2024-05-06T00:00:00",
          "2024-05-07T00:00:00",
          "2024-05-08T00:00:00",
          "2024-05-09T00:00:00",
          "2024-05-10T00:00:00",
          "2024-05-13T00:00:00",
          "2024-05-14T00:00:00",
          "2024-05-15T00:00:00",
          "2024-05-16T00:00:00",
          "2024-05-17T00:00:00",
          "2024-05-20T00:00:00",
          "2024-05-21T00:00:00",
          "2024-05-22T00:00:00",
          "2024-05-23T00:00:00",
          "2024-05-24T00:00:00",
          "2024-05-28T00:00:00"
         ],
         "xaxis": "x",
         "y": [
          0,
          0,
          0,
          0,
          0,
          0,
          0,
          0,
          0,
          0,
          0,
          0,
          0,
          0,
          0,
          0,
          0,
          0,
          0,
          0,
          0,
          0,
          0,
          0,
          0,
          0,
          0,
          0,
          0,
          0,
          0,
          0,
          0,
          0,
          0,
          0,
          0,
          0,
          0
         ],
         "yaxis": "y"
        }
       ],
       "layout": {
        "legend": {
         "title": {
          "text": "Ticker"
         },
         "tracegroupgap": 0
        },
        "template": {
         "data": {
          "bar": [
           {
            "error_x": {
             "color": "#2a3f5f"
            },
            "error_y": {
             "color": "#2a3f5f"
            },
            "marker": {
             "line": {
              "color": "#E5ECF6",
              "width": 0.5
             },
             "pattern": {
              "fillmode": "overlay",
              "size": 10,
              "solidity": 0.2
             }
            },
            "type": "bar"
           }
          ],
          "barpolar": [
           {
            "marker": {
             "line": {
              "color": "#E5ECF6",
              "width": 0.5
             },
             "pattern": {
              "fillmode": "overlay",
              "size": 10,
              "solidity": 0.2
             }
            },
            "type": "barpolar"
           }
          ],
          "carpet": [
           {
            "aaxis": {
             "endlinecolor": "#2a3f5f",
             "gridcolor": "white",
             "linecolor": "white",
             "minorgridcolor": "white",
             "startlinecolor": "#2a3f5f"
            },
            "baxis": {
             "endlinecolor": "#2a3f5f",
             "gridcolor": "white",
             "linecolor": "white",
             "minorgridcolor": "white",
             "startlinecolor": "#2a3f5f"
            },
            "type": "carpet"
           }
          ],
          "choropleth": [
           {
            "colorbar": {
             "outlinewidth": 0,
             "ticks": ""
            },
            "type": "choropleth"
           }
          ],
          "contour": [
           {
            "colorbar": {
             "outlinewidth": 0,
             "ticks": ""
            },
            "colorscale": [
             [
              0,
              "#0d0887"
             ],
             [
              0.1111111111111111,
              "#46039f"
             ],
             [
              0.2222222222222222,
              "#7201a8"
             ],
             [
              0.3333333333333333,
              "#9c179e"
             ],
             [
              0.4444444444444444,
              "#bd3786"
             ],
             [
              0.5555555555555556,
              "#d8576b"
             ],
             [
              0.6666666666666666,
              "#ed7953"
             ],
             [
              0.7777777777777778,
              "#fb9f3a"
             ],
             [
              0.8888888888888888,
              "#fdca26"
             ],
             [
              1,
              "#f0f921"
             ]
            ],
            "type": "contour"
           }
          ],
          "contourcarpet": [
           {
            "colorbar": {
             "outlinewidth": 0,
             "ticks": ""
            },
            "type": "contourcarpet"
           }
          ],
          "heatmap": [
           {
            "colorbar": {
             "outlinewidth": 0,
             "ticks": ""
            },
            "colorscale": [
             [
              0,
              "#0d0887"
             ],
             [
              0.1111111111111111,
              "#46039f"
             ],
             [
              0.2222222222222222,
              "#7201a8"
             ],
             [
              0.3333333333333333,
              "#9c179e"
             ],
             [
              0.4444444444444444,
              "#bd3786"
             ],
             [
              0.5555555555555556,
              "#d8576b"
             ],
             [
              0.6666666666666666,
              "#ed7953"
             ],
             [
              0.7777777777777778,
              "#fb9f3a"
             ],
             [
              0.8888888888888888,
              "#fdca26"
             ],
             [
              1,
              "#f0f921"
             ]
            ],
            "type": "heatmap"
           }
          ],
          "heatmapgl": [
           {
            "colorbar": {
             "outlinewidth": 0,
             "ticks": ""
            },
            "colorscale": [
             [
              0,
              "#0d0887"
             ],
             [
              0.1111111111111111,
              "#46039f"
             ],
             [
              0.2222222222222222,
              "#7201a8"
             ],
             [
              0.3333333333333333,
              "#9c179e"
             ],
             [
              0.4444444444444444,
              "#bd3786"
             ],
             [
              0.5555555555555556,
              "#d8576b"
             ],
             [
              0.6666666666666666,
              "#ed7953"
             ],
             [
              0.7777777777777778,
              "#fb9f3a"
             ],
             [
              0.8888888888888888,
              "#fdca26"
             ],
             [
              1,
              "#f0f921"
             ]
            ],
            "type": "heatmapgl"
           }
          ],
          "histogram": [
           {
            "marker": {
             "pattern": {
              "fillmode": "overlay",
              "size": 10,
              "solidity": 0.2
             }
            },
            "type": "histogram"
           }
          ],
          "histogram2d": [
           {
            "colorbar": {
             "outlinewidth": 0,
             "ticks": ""
            },
            "colorscale": [
             [
              0,
              "#0d0887"
             ],
             [
              0.1111111111111111,
              "#46039f"
             ],
             [
              0.2222222222222222,
              "#7201a8"
             ],
             [
              0.3333333333333333,
              "#9c179e"
             ],
             [
              0.4444444444444444,
              "#bd3786"
             ],
             [
              0.5555555555555556,
              "#d8576b"
             ],
             [
              0.6666666666666666,
              "#ed7953"
             ],
             [
              0.7777777777777778,
              "#fb9f3a"
             ],
             [
              0.8888888888888888,
              "#fdca26"
             ],
             [
              1,
              "#f0f921"
             ]
            ],
            "type": "histogram2d"
           }
          ],
          "histogram2dcontour": [
           {
            "colorbar": {
             "outlinewidth": 0,
             "ticks": ""
            },
            "colorscale": [
             [
              0,
              "#0d0887"
             ],
             [
              0.1111111111111111,
              "#46039f"
             ],
             [
              0.2222222222222222,
              "#7201a8"
             ],
             [
              0.3333333333333333,
              "#9c179e"
             ],
             [
              0.4444444444444444,
              "#bd3786"
             ],
             [
              0.5555555555555556,
              "#d8576b"
             ],
             [
              0.6666666666666666,
              "#ed7953"
             ],
             [
              0.7777777777777778,
              "#fb9f3a"
             ],
             [
              0.8888888888888888,
              "#fdca26"
             ],
             [
              1,
              "#f0f921"
             ]
            ],
            "type": "histogram2dcontour"
           }
          ],
          "mesh3d": [
           {
            "colorbar": {
             "outlinewidth": 0,
             "ticks": ""
            },
            "type": "mesh3d"
           }
          ],
          "parcoords": [
           {
            "line": {
             "colorbar": {
              "outlinewidth": 0,
              "ticks": ""
             }
            },
            "type": "parcoords"
           }
          ],
          "pie": [
           {
            "automargin": true,
            "type": "pie"
           }
          ],
          "scatter": [
           {
            "fillpattern": {
             "fillmode": "overlay",
             "size": 10,
             "solidity": 0.2
            },
            "type": "scatter"
           }
          ],
          "scatter3d": [
           {
            "line": {
             "colorbar": {
              "outlinewidth": 0,
              "ticks": ""
             }
            },
            "marker": {
             "colorbar": {
              "outlinewidth": 0,
              "ticks": ""
             }
            },
            "type": "scatter3d"
           }
          ],
          "scattercarpet": [
           {
            "marker": {
             "colorbar": {
              "outlinewidth": 0,
              "ticks": ""
             }
            },
            "type": "scattercarpet"
           }
          ],
          "scattergeo": [
           {
            "marker": {
             "colorbar": {
              "outlinewidth": 0,
              "ticks": ""
             }
            },
            "type": "scattergeo"
           }
          ],
          "scattergl": [
           {
            "marker": {
             "colorbar": {
              "outlinewidth": 0,
              "ticks": ""
             }
            },
            "type": "scattergl"
           }
          ],
          "scattermapbox": [
           {
            "marker": {
             "colorbar": {
              "outlinewidth": 0,
              "ticks": ""
             }
            },
            "type": "scattermapbox"
           }
          ],
          "scatterpolar": [
           {
            "marker": {
             "colorbar": {
              "outlinewidth": 0,
              "ticks": ""
             }
            },
            "type": "scatterpolar"
           }
          ],
          "scatterpolargl": [
           {
            "marker": {
             "colorbar": {
              "outlinewidth": 0,
              "ticks": ""
             }
            },
            "type": "scatterpolargl"
           }
          ],
          "scatterternary": [
           {
            "marker": {
             "colorbar": {
              "outlinewidth": 0,
              "ticks": ""
             }
            },
            "type": "scatterternary"
           }
          ],
          "surface": [
           {
            "colorbar": {
             "outlinewidth": 0,
             "ticks": ""
            },
            "colorscale": [
             [
              0,
              "#0d0887"
             ],
             [
              0.1111111111111111,
              "#46039f"
             ],
             [
              0.2222222222222222,
              "#7201a8"
             ],
             [
              0.3333333333333333,
              "#9c179e"
             ],
             [
              0.4444444444444444,
              "#bd3786"
             ],
             [
              0.5555555555555556,
              "#d8576b"
             ],
             [
              0.6666666666666666,
              "#ed7953"
             ],
             [
              0.7777777777777778,
              "#fb9f3a"
             ],
             [
              0.8888888888888888,
              "#fdca26"
             ],
             [
              1,
              "#f0f921"
             ]
            ],
            "type": "surface"
           }
          ],
          "table": [
           {
            "cells": {
             "fill": {
              "color": "#EBF0F8"
             },
             "line": {
              "color": "white"
             }
            },
            "header": {
             "fill": {
              "color": "#C8D4E3"
             },
             "line": {
              "color": "white"
             }
            },
            "type": "table"
           }
          ]
         },
         "layout": {
          "annotationdefaults": {
           "arrowcolor": "#2a3f5f",
           "arrowhead": 0,
           "arrowwidth": 1
          },
          "autotypenumbers": "strict",
          "coloraxis": {
           "colorbar": {
            "outlinewidth": 0,
            "ticks": ""
           }
          },
          "colorscale": {
           "diverging": [
            [
             0,
             "#8e0152"
            ],
            [
             0.1,
             "#c51b7d"
            ],
            [
             0.2,
             "#de77ae"
            ],
            [
             0.3,
             "#f1b6da"
            ],
            [
             0.4,
             "#fde0ef"
            ],
            [
             0.5,
             "#f7f7f7"
            ],
            [
             0.6,
             "#e6f5d0"
            ],
            [
             0.7,
             "#b8e186"
            ],
            [
             0.8,
             "#7fbc41"
            ],
            [
             0.9,
             "#4d9221"
            ],
            [
             1,
             "#276419"
            ]
           ],
           "sequential": [
            [
             0,
             "#0d0887"
            ],
            [
             0.1111111111111111,
             "#46039f"
            ],
            [
             0.2222222222222222,
             "#7201a8"
            ],
            [
             0.3333333333333333,
             "#9c179e"
            ],
            [
             0.4444444444444444,
             "#bd3786"
            ],
            [
             0.5555555555555556,
             "#d8576b"
            ],
            [
             0.6666666666666666,
             "#ed7953"
            ],
            [
             0.7777777777777778,
             "#fb9f3a"
            ],
            [
             0.8888888888888888,
             "#fdca26"
            ],
            [
             1,
             "#f0f921"
            ]
           ],
           "sequentialminus": [
            [
             0,
             "#0d0887"
            ],
            [
             0.1111111111111111,
             "#46039f"
            ],
            [
             0.2222222222222222,
             "#7201a8"
            ],
            [
             0.3333333333333333,
             "#9c179e"
            ],
            [
             0.4444444444444444,
             "#bd3786"
            ],
            [
             0.5555555555555556,
             "#d8576b"
            ],
            [
             0.6666666666666666,
             "#ed7953"
            ],
            [
             0.7777777777777778,
             "#fb9f3a"
            ],
            [
             0.8888888888888888,
             "#fdca26"
            ],
            [
             1,
             "#f0f921"
            ]
           ]
          },
          "colorway": [
           "#636efa",
           "#EF553B",
           "#00cc96",
           "#ab63fa",
           "#FFA15A",
           "#19d3f3",
           "#FF6692",
           "#B6E880",
           "#FF97FF",
           "#FECB52"
          ],
          "font": {
           "color": "#2a3f5f"
          },
          "geo": {
           "bgcolor": "white",
           "lakecolor": "white",
           "landcolor": "#E5ECF6",
           "showlakes": true,
           "showland": true,
           "subunitcolor": "white"
          },
          "hoverlabel": {
           "align": "left"
          },
          "hovermode": "closest",
          "mapbox": {
           "style": "light"
          },
          "paper_bgcolor": "white",
          "plot_bgcolor": "#E5ECF6",
          "polar": {
           "angularaxis": {
            "gridcolor": "white",
            "linecolor": "white",
            "ticks": ""
           },
           "bgcolor": "#E5ECF6",
           "radialaxis": {
            "gridcolor": "white",
            "linecolor": "white",
            "ticks": ""
           }
          },
          "scene": {
           "xaxis": {
            "backgroundcolor": "#E5ECF6",
            "gridcolor": "white",
            "gridwidth": 2,
            "linecolor": "white",
            "showbackground": true,
            "ticks": "",
            "zerolinecolor": "white"
           },
           "yaxis": {
            "backgroundcolor": "#E5ECF6",
            "gridcolor": "white",
            "gridwidth": 2,
            "linecolor": "white",
            "showbackground": true,
            "ticks": "",
            "zerolinecolor": "white"
           },
           "zaxis": {
            "backgroundcolor": "#E5ECF6",
            "gridcolor": "white",
            "gridwidth": 2,
            "linecolor": "white",
            "showbackground": true,
            "ticks": "",
            "zerolinecolor": "white"
           }
          },
          "shapedefaults": {
           "line": {
            "color": "#2a3f5f"
           }
          },
          "ternary": {
           "aaxis": {
            "gridcolor": "white",
            "linecolor": "white",
            "ticks": ""
           },
           "baxis": {
            "gridcolor": "white",
            "linecolor": "white",
            "ticks": ""
           },
           "bgcolor": "#E5ECF6",
           "caxis": {
            "gridcolor": "white",
            "linecolor": "white",
            "ticks": ""
           }
          },
          "title": {
           "x": 0.05
          },
          "xaxis": {
           "automargin": true,
           "gridcolor": "white",
           "linecolor": "white",
           "ticks": "",
           "title": {
            "standoff": 15
           },
           "zerolinecolor": "white",
           "zerolinewidth": 2
          },
          "yaxis": {
           "automargin": true,
           "gridcolor": "white",
           "linecolor": "white",
           "ticks": "",
           "title": {
            "standoff": 15
           },
           "zerolinecolor": "white",
           "zerolinewidth": 2
          }
         }
        },
        "title": {
         "text": "week 8"
        },
        "xaxis": {
         "anchor": "y",
         "domain": [
          0,
          1
         ],
         "title": {
          "text": "Date"
         }
        },
        "yaxis": {
         "anchor": "x",
         "domain": [
          0,
          1
         ],
         "title": {
          "text": "value"
         }
        }
       }
      }
     },
     "metadata": {},
     "output_type": "display_data"
    }
   ],
   "source": [
    "import plotly.graph_objects as go\n",
    "import plotly.express as px\n",
    "from datetime import datetime, timedelta\n",
    "\n",
    "i=8\n",
    "# Calculate the date i weeks ago\n",
    "ago = datetime.today() - timedelta(days=i*7)\n",
    "# Convert the date to a string in the desired format\n",
    "date_string = ago.strftime(\"%Y-%m-%d\")\n",
    "tmp = df[df.index >= date_string].copy()\n",
    "\n",
    "for symbol in symbols:\n",
    "    tmp[\"Cum Adj Daily Return\", symbol] = (tmp[\"Adj Daily Return\", symbol] - tmp[\"Adj Daily Return\", \"^GSPC\"]).cumsum()\n",
    "\n",
    "# Create a scatter plot\n",
    "fig = px.line(tmp['Cum Adj Daily Return'], title=f\"week {i}\")\n",
    "# Show the plot\n",
    "fig.show()\n"
   ]
  }
 ],
 "metadata": {
  "kernelspec": {
   "display_name": "stocks",
   "language": "python",
   "name": "python3"
  },
  "language_info": {
   "codemirror_mode": {
    "name": "ipython",
    "version": 3
   },
   "file_extension": ".py",
   "mimetype": "text/x-python",
   "name": "python",
   "nbconvert_exporter": "python",
   "pygments_lexer": "ipython3",
   "version": "undefined.undefined.undefined"
  }
 },
 "nbformat": 4,
 "nbformat_minor": 2
}
